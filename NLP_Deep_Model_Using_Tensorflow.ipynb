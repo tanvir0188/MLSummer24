{
  "nbformat": 4,
  "nbformat_minor": 0,
  "metadata": {
    "colab": {
      "provenance": [],
      "include_colab_link": true
    },
    "kernelspec": {
      "name": "python3",
      "display_name": "Python 3"
    },
    "language_info": {
      "name": "python"
    },
    "widgets": {
      "application/vnd.jupyter.widget-state+json": {
        "547a328a3b714baa8b1783b380475f4c": {
          "model_module": "@jupyter-widgets/controls",
          "model_name": "HBoxModel",
          "model_module_version": "1.5.0",
          "state": {
            "_dom_classes": [],
            "_model_module": "@jupyter-widgets/controls",
            "_model_module_version": "1.5.0",
            "_model_name": "HBoxModel",
            "_view_count": null,
            "_view_module": "@jupyter-widgets/controls",
            "_view_module_version": "1.5.0",
            "_view_name": "HBoxView",
            "box_style": "",
            "children": [
              "IPY_MODEL_22e32424902e46fab08ead1ebfbae30b",
              "IPY_MODEL_d736ee8254924a3d900274cc9594a7ee",
              "IPY_MODEL_392b1a4e5b204b8baeb45e1d3241aa8c"
            ],
            "layout": "IPY_MODEL_60cb02a9699a4122beb862ea4948b3a1"
          }
        },
        "22e32424902e46fab08ead1ebfbae30b": {
          "model_module": "@jupyter-widgets/controls",
          "model_name": "HTMLModel",
          "model_module_version": "1.5.0",
          "state": {
            "_dom_classes": [],
            "_model_module": "@jupyter-widgets/controls",
            "_model_module_version": "1.5.0",
            "_model_name": "HTMLModel",
            "_view_count": null,
            "_view_module": "@jupyter-widgets/controls",
            "_view_module_version": "1.5.0",
            "_view_name": "HTMLView",
            "description": "",
            "description_tooltip": null,
            "layout": "IPY_MODEL_7c0c9306918c41d1b627e1cf957bb2b3",
            "placeholder": "​",
            "style": "IPY_MODEL_c0a830a388f24552932caf0907fb1d3c",
            "value": "vocab.txt: 100%"
          }
        },
        "d736ee8254924a3d900274cc9594a7ee": {
          "model_module": "@jupyter-widgets/controls",
          "model_name": "FloatProgressModel",
          "model_module_version": "1.5.0",
          "state": {
            "_dom_classes": [],
            "_model_module": "@jupyter-widgets/controls",
            "_model_module_version": "1.5.0",
            "_model_name": "FloatProgressModel",
            "_view_count": null,
            "_view_module": "@jupyter-widgets/controls",
            "_view_module_version": "1.5.0",
            "_view_name": "ProgressView",
            "bar_style": "success",
            "description": "",
            "description_tooltip": null,
            "layout": "IPY_MODEL_82607a055ef14515939ff6cd7a4037c7",
            "max": 231508,
            "min": 0,
            "orientation": "horizontal",
            "style": "IPY_MODEL_7b6581418c704494beb702739a9531dd",
            "value": 231508
          }
        },
        "392b1a4e5b204b8baeb45e1d3241aa8c": {
          "model_module": "@jupyter-widgets/controls",
          "model_name": "HTMLModel",
          "model_module_version": "1.5.0",
          "state": {
            "_dom_classes": [],
            "_model_module": "@jupyter-widgets/controls",
            "_model_module_version": "1.5.0",
            "_model_name": "HTMLModel",
            "_view_count": null,
            "_view_module": "@jupyter-widgets/controls",
            "_view_module_version": "1.5.0",
            "_view_name": "HTMLView",
            "description": "",
            "description_tooltip": null,
            "layout": "IPY_MODEL_016035f3a6aa4759a7aaa87a7ecc5322",
            "placeholder": "​",
            "style": "IPY_MODEL_32e7c4476bc44c4c876374633ea10864",
            "value": " 232k/232k [00:00&lt;00:00, 3.72MB/s]"
          }
        },
        "60cb02a9699a4122beb862ea4948b3a1": {
          "model_module": "@jupyter-widgets/base",
          "model_name": "LayoutModel",
          "model_module_version": "1.2.0",
          "state": {
            "_model_module": "@jupyter-widgets/base",
            "_model_module_version": "1.2.0",
            "_model_name": "LayoutModel",
            "_view_count": null,
            "_view_module": "@jupyter-widgets/base",
            "_view_module_version": "1.2.0",
            "_view_name": "LayoutView",
            "align_content": null,
            "align_items": null,
            "align_self": null,
            "border": null,
            "bottom": null,
            "display": null,
            "flex": null,
            "flex_flow": null,
            "grid_area": null,
            "grid_auto_columns": null,
            "grid_auto_flow": null,
            "grid_auto_rows": null,
            "grid_column": null,
            "grid_gap": null,
            "grid_row": null,
            "grid_template_areas": null,
            "grid_template_columns": null,
            "grid_template_rows": null,
            "height": null,
            "justify_content": null,
            "justify_items": null,
            "left": null,
            "margin": null,
            "max_height": null,
            "max_width": null,
            "min_height": null,
            "min_width": null,
            "object_fit": null,
            "object_position": null,
            "order": null,
            "overflow": null,
            "overflow_x": null,
            "overflow_y": null,
            "padding": null,
            "right": null,
            "top": null,
            "visibility": null,
            "width": null
          }
        },
        "7c0c9306918c41d1b627e1cf957bb2b3": {
          "model_module": "@jupyter-widgets/base",
          "model_name": "LayoutModel",
          "model_module_version": "1.2.0",
          "state": {
            "_model_module": "@jupyter-widgets/base",
            "_model_module_version": "1.2.0",
            "_model_name": "LayoutModel",
            "_view_count": null,
            "_view_module": "@jupyter-widgets/base",
            "_view_module_version": "1.2.0",
            "_view_name": "LayoutView",
            "align_content": null,
            "align_items": null,
            "align_self": null,
            "border": null,
            "bottom": null,
            "display": null,
            "flex": null,
            "flex_flow": null,
            "grid_area": null,
            "grid_auto_columns": null,
            "grid_auto_flow": null,
            "grid_auto_rows": null,
            "grid_column": null,
            "grid_gap": null,
            "grid_row": null,
            "grid_template_areas": null,
            "grid_template_columns": null,
            "grid_template_rows": null,
            "height": null,
            "justify_content": null,
            "justify_items": null,
            "left": null,
            "margin": null,
            "max_height": null,
            "max_width": null,
            "min_height": null,
            "min_width": null,
            "object_fit": null,
            "object_position": null,
            "order": null,
            "overflow": null,
            "overflow_x": null,
            "overflow_y": null,
            "padding": null,
            "right": null,
            "top": null,
            "visibility": null,
            "width": null
          }
        },
        "c0a830a388f24552932caf0907fb1d3c": {
          "model_module": "@jupyter-widgets/controls",
          "model_name": "DescriptionStyleModel",
          "model_module_version": "1.5.0",
          "state": {
            "_model_module": "@jupyter-widgets/controls",
            "_model_module_version": "1.5.0",
            "_model_name": "DescriptionStyleModel",
            "_view_count": null,
            "_view_module": "@jupyter-widgets/base",
            "_view_module_version": "1.2.0",
            "_view_name": "StyleView",
            "description_width": ""
          }
        },
        "82607a055ef14515939ff6cd7a4037c7": {
          "model_module": "@jupyter-widgets/base",
          "model_name": "LayoutModel",
          "model_module_version": "1.2.0",
          "state": {
            "_model_module": "@jupyter-widgets/base",
            "_model_module_version": "1.2.0",
            "_model_name": "LayoutModel",
            "_view_count": null,
            "_view_module": "@jupyter-widgets/base",
            "_view_module_version": "1.2.0",
            "_view_name": "LayoutView",
            "align_content": null,
            "align_items": null,
            "align_self": null,
            "border": null,
            "bottom": null,
            "display": null,
            "flex": null,
            "flex_flow": null,
            "grid_area": null,
            "grid_auto_columns": null,
            "grid_auto_flow": null,
            "grid_auto_rows": null,
            "grid_column": null,
            "grid_gap": null,
            "grid_row": null,
            "grid_template_areas": null,
            "grid_template_columns": null,
            "grid_template_rows": null,
            "height": null,
            "justify_content": null,
            "justify_items": null,
            "left": null,
            "margin": null,
            "max_height": null,
            "max_width": null,
            "min_height": null,
            "min_width": null,
            "object_fit": null,
            "object_position": null,
            "order": null,
            "overflow": null,
            "overflow_x": null,
            "overflow_y": null,
            "padding": null,
            "right": null,
            "top": null,
            "visibility": null,
            "width": null
          }
        },
        "7b6581418c704494beb702739a9531dd": {
          "model_module": "@jupyter-widgets/controls",
          "model_name": "ProgressStyleModel",
          "model_module_version": "1.5.0",
          "state": {
            "_model_module": "@jupyter-widgets/controls",
            "_model_module_version": "1.5.0",
            "_model_name": "ProgressStyleModel",
            "_view_count": null,
            "_view_module": "@jupyter-widgets/base",
            "_view_module_version": "1.2.0",
            "_view_name": "StyleView",
            "bar_color": null,
            "description_width": ""
          }
        },
        "016035f3a6aa4759a7aaa87a7ecc5322": {
          "model_module": "@jupyter-widgets/base",
          "model_name": "LayoutModel",
          "model_module_version": "1.2.0",
          "state": {
            "_model_module": "@jupyter-widgets/base",
            "_model_module_version": "1.2.0",
            "_model_name": "LayoutModel",
            "_view_count": null,
            "_view_module": "@jupyter-widgets/base",
            "_view_module_version": "1.2.0",
            "_view_name": "LayoutView",
            "align_content": null,
            "align_items": null,
            "align_self": null,
            "border": null,
            "bottom": null,
            "display": null,
            "flex": null,
            "flex_flow": null,
            "grid_area": null,
            "grid_auto_columns": null,
            "grid_auto_flow": null,
            "grid_auto_rows": null,
            "grid_column": null,
            "grid_gap": null,
            "grid_row": null,
            "grid_template_areas": null,
            "grid_template_columns": null,
            "grid_template_rows": null,
            "height": null,
            "justify_content": null,
            "justify_items": null,
            "left": null,
            "margin": null,
            "max_height": null,
            "max_width": null,
            "min_height": null,
            "min_width": null,
            "object_fit": null,
            "object_position": null,
            "order": null,
            "overflow": null,
            "overflow_x": null,
            "overflow_y": null,
            "padding": null,
            "right": null,
            "top": null,
            "visibility": null,
            "width": null
          }
        },
        "32e7c4476bc44c4c876374633ea10864": {
          "model_module": "@jupyter-widgets/controls",
          "model_name": "DescriptionStyleModel",
          "model_module_version": "1.5.0",
          "state": {
            "_model_module": "@jupyter-widgets/controls",
            "_model_module_version": "1.5.0",
            "_model_name": "DescriptionStyleModel",
            "_view_count": null,
            "_view_module": "@jupyter-widgets/base",
            "_view_module_version": "1.2.0",
            "_view_name": "StyleView",
            "description_width": ""
          }
        },
        "6f78282340b84b859de1359b3c3cf0e8": {
          "model_module": "@jupyter-widgets/controls",
          "model_name": "HBoxModel",
          "model_module_version": "1.5.0",
          "state": {
            "_dom_classes": [],
            "_model_module": "@jupyter-widgets/controls",
            "_model_module_version": "1.5.0",
            "_model_name": "HBoxModel",
            "_view_count": null,
            "_view_module": "@jupyter-widgets/controls",
            "_view_module_version": "1.5.0",
            "_view_name": "HBoxView",
            "box_style": "",
            "children": [
              "IPY_MODEL_8ab41aa6ca1e4a9a9092305e41b48eb5",
              "IPY_MODEL_37688e796c094e47b59baf4ff08687e8",
              "IPY_MODEL_85ffe78c63de449ca8222b2781dac46a"
            ],
            "layout": "IPY_MODEL_b34158d2c6ae425fb4494c2bab79c224"
          }
        },
        "8ab41aa6ca1e4a9a9092305e41b48eb5": {
          "model_module": "@jupyter-widgets/controls",
          "model_name": "HTMLModel",
          "model_module_version": "1.5.0",
          "state": {
            "_dom_classes": [],
            "_model_module": "@jupyter-widgets/controls",
            "_model_module_version": "1.5.0",
            "_model_name": "HTMLModel",
            "_view_count": null,
            "_view_module": "@jupyter-widgets/controls",
            "_view_module_version": "1.5.0",
            "_view_name": "HTMLView",
            "description": "",
            "description_tooltip": null,
            "layout": "IPY_MODEL_0bd0394d9e29431d9c6602495c0b9051",
            "placeholder": "​",
            "style": "IPY_MODEL_61010cecfc344af3ae47296383a88dfc",
            "value": "tokenizer_config.json: 100%"
          }
        },
        "37688e796c094e47b59baf4ff08687e8": {
          "model_module": "@jupyter-widgets/controls",
          "model_name": "FloatProgressModel",
          "model_module_version": "1.5.0",
          "state": {
            "_dom_classes": [],
            "_model_module": "@jupyter-widgets/controls",
            "_model_module_version": "1.5.0",
            "_model_name": "FloatProgressModel",
            "_view_count": null,
            "_view_module": "@jupyter-widgets/controls",
            "_view_module_version": "1.5.0",
            "_view_name": "ProgressView",
            "bar_style": "success",
            "description": "",
            "description_tooltip": null,
            "layout": "IPY_MODEL_9ccc305251e749c78f260e342dca2b36",
            "max": 48,
            "min": 0,
            "orientation": "horizontal",
            "style": "IPY_MODEL_b337630cbdad47b79a37c2c31bf6ab34",
            "value": 48
          }
        },
        "85ffe78c63de449ca8222b2781dac46a": {
          "model_module": "@jupyter-widgets/controls",
          "model_name": "HTMLModel",
          "model_module_version": "1.5.0",
          "state": {
            "_dom_classes": [],
            "_model_module": "@jupyter-widgets/controls",
            "_model_module_version": "1.5.0",
            "_model_name": "HTMLModel",
            "_view_count": null,
            "_view_module": "@jupyter-widgets/controls",
            "_view_module_version": "1.5.0",
            "_view_name": "HTMLView",
            "description": "",
            "description_tooltip": null,
            "layout": "IPY_MODEL_f8360f9fe75c471a8fa7e47043eb83e9",
            "placeholder": "​",
            "style": "IPY_MODEL_d8d2a6bf8e2e4ec2bc4585c3759e972b",
            "value": " 48.0/48.0 [00:00&lt;00:00, 2.11kB/s]"
          }
        },
        "b34158d2c6ae425fb4494c2bab79c224": {
          "model_module": "@jupyter-widgets/base",
          "model_name": "LayoutModel",
          "model_module_version": "1.2.0",
          "state": {
            "_model_module": "@jupyter-widgets/base",
            "_model_module_version": "1.2.0",
            "_model_name": "LayoutModel",
            "_view_count": null,
            "_view_module": "@jupyter-widgets/base",
            "_view_module_version": "1.2.0",
            "_view_name": "LayoutView",
            "align_content": null,
            "align_items": null,
            "align_self": null,
            "border": null,
            "bottom": null,
            "display": null,
            "flex": null,
            "flex_flow": null,
            "grid_area": null,
            "grid_auto_columns": null,
            "grid_auto_flow": null,
            "grid_auto_rows": null,
            "grid_column": null,
            "grid_gap": null,
            "grid_row": null,
            "grid_template_areas": null,
            "grid_template_columns": null,
            "grid_template_rows": null,
            "height": null,
            "justify_content": null,
            "justify_items": null,
            "left": null,
            "margin": null,
            "max_height": null,
            "max_width": null,
            "min_height": null,
            "min_width": null,
            "object_fit": null,
            "object_position": null,
            "order": null,
            "overflow": null,
            "overflow_x": null,
            "overflow_y": null,
            "padding": null,
            "right": null,
            "top": null,
            "visibility": null,
            "width": null
          }
        },
        "0bd0394d9e29431d9c6602495c0b9051": {
          "model_module": "@jupyter-widgets/base",
          "model_name": "LayoutModel",
          "model_module_version": "1.2.0",
          "state": {
            "_model_module": "@jupyter-widgets/base",
            "_model_module_version": "1.2.0",
            "_model_name": "LayoutModel",
            "_view_count": null,
            "_view_module": "@jupyter-widgets/base",
            "_view_module_version": "1.2.0",
            "_view_name": "LayoutView",
            "align_content": null,
            "align_items": null,
            "align_self": null,
            "border": null,
            "bottom": null,
            "display": null,
            "flex": null,
            "flex_flow": null,
            "grid_area": null,
            "grid_auto_columns": null,
            "grid_auto_flow": null,
            "grid_auto_rows": null,
            "grid_column": null,
            "grid_gap": null,
            "grid_row": null,
            "grid_template_areas": null,
            "grid_template_columns": null,
            "grid_template_rows": null,
            "height": null,
            "justify_content": null,
            "justify_items": null,
            "left": null,
            "margin": null,
            "max_height": null,
            "max_width": null,
            "min_height": null,
            "min_width": null,
            "object_fit": null,
            "object_position": null,
            "order": null,
            "overflow": null,
            "overflow_x": null,
            "overflow_y": null,
            "padding": null,
            "right": null,
            "top": null,
            "visibility": null,
            "width": null
          }
        },
        "61010cecfc344af3ae47296383a88dfc": {
          "model_module": "@jupyter-widgets/controls",
          "model_name": "DescriptionStyleModel",
          "model_module_version": "1.5.0",
          "state": {
            "_model_module": "@jupyter-widgets/controls",
            "_model_module_version": "1.5.0",
            "_model_name": "DescriptionStyleModel",
            "_view_count": null,
            "_view_module": "@jupyter-widgets/base",
            "_view_module_version": "1.2.0",
            "_view_name": "StyleView",
            "description_width": ""
          }
        },
        "9ccc305251e749c78f260e342dca2b36": {
          "model_module": "@jupyter-widgets/base",
          "model_name": "LayoutModel",
          "model_module_version": "1.2.0",
          "state": {
            "_model_module": "@jupyter-widgets/base",
            "_model_module_version": "1.2.0",
            "_model_name": "LayoutModel",
            "_view_count": null,
            "_view_module": "@jupyter-widgets/base",
            "_view_module_version": "1.2.0",
            "_view_name": "LayoutView",
            "align_content": null,
            "align_items": null,
            "align_self": null,
            "border": null,
            "bottom": null,
            "display": null,
            "flex": null,
            "flex_flow": null,
            "grid_area": null,
            "grid_auto_columns": null,
            "grid_auto_flow": null,
            "grid_auto_rows": null,
            "grid_column": null,
            "grid_gap": null,
            "grid_row": null,
            "grid_template_areas": null,
            "grid_template_columns": null,
            "grid_template_rows": null,
            "height": null,
            "justify_content": null,
            "justify_items": null,
            "left": null,
            "margin": null,
            "max_height": null,
            "max_width": null,
            "min_height": null,
            "min_width": null,
            "object_fit": null,
            "object_position": null,
            "order": null,
            "overflow": null,
            "overflow_x": null,
            "overflow_y": null,
            "padding": null,
            "right": null,
            "top": null,
            "visibility": null,
            "width": null
          }
        },
        "b337630cbdad47b79a37c2c31bf6ab34": {
          "model_module": "@jupyter-widgets/controls",
          "model_name": "ProgressStyleModel",
          "model_module_version": "1.5.0",
          "state": {
            "_model_module": "@jupyter-widgets/controls",
            "_model_module_version": "1.5.0",
            "_model_name": "ProgressStyleModel",
            "_view_count": null,
            "_view_module": "@jupyter-widgets/base",
            "_view_module_version": "1.2.0",
            "_view_name": "StyleView",
            "bar_color": null,
            "description_width": ""
          }
        },
        "f8360f9fe75c471a8fa7e47043eb83e9": {
          "model_module": "@jupyter-widgets/base",
          "model_name": "LayoutModel",
          "model_module_version": "1.2.0",
          "state": {
            "_model_module": "@jupyter-widgets/base",
            "_model_module_version": "1.2.0",
            "_model_name": "LayoutModel",
            "_view_count": null,
            "_view_module": "@jupyter-widgets/base",
            "_view_module_version": "1.2.0",
            "_view_name": "LayoutView",
            "align_content": null,
            "align_items": null,
            "align_self": null,
            "border": null,
            "bottom": null,
            "display": null,
            "flex": null,
            "flex_flow": null,
            "grid_area": null,
            "grid_auto_columns": null,
            "grid_auto_flow": null,
            "grid_auto_rows": null,
            "grid_column": null,
            "grid_gap": null,
            "grid_row": null,
            "grid_template_areas": null,
            "grid_template_columns": null,
            "grid_template_rows": null,
            "height": null,
            "justify_content": null,
            "justify_items": null,
            "left": null,
            "margin": null,
            "max_height": null,
            "max_width": null,
            "min_height": null,
            "min_width": null,
            "object_fit": null,
            "object_position": null,
            "order": null,
            "overflow": null,
            "overflow_x": null,
            "overflow_y": null,
            "padding": null,
            "right": null,
            "top": null,
            "visibility": null,
            "width": null
          }
        },
        "d8d2a6bf8e2e4ec2bc4585c3759e972b": {
          "model_module": "@jupyter-widgets/controls",
          "model_name": "DescriptionStyleModel",
          "model_module_version": "1.5.0",
          "state": {
            "_model_module": "@jupyter-widgets/controls",
            "_model_module_version": "1.5.0",
            "_model_name": "DescriptionStyleModel",
            "_view_count": null,
            "_view_module": "@jupyter-widgets/base",
            "_view_module_version": "1.2.0",
            "_view_name": "StyleView",
            "description_width": ""
          }
        },
        "f65320a3ddfe473a812039369a66c245": {
          "model_module": "@jupyter-widgets/controls",
          "model_name": "HBoxModel",
          "model_module_version": "1.5.0",
          "state": {
            "_dom_classes": [],
            "_model_module": "@jupyter-widgets/controls",
            "_model_module_version": "1.5.0",
            "_model_name": "HBoxModel",
            "_view_count": null,
            "_view_module": "@jupyter-widgets/controls",
            "_view_module_version": "1.5.0",
            "_view_name": "HBoxView",
            "box_style": "",
            "children": [
              "IPY_MODEL_8de3d65f353c48bcab0b28b56608d31d",
              "IPY_MODEL_23c5c326ed644378aa40e400f07bf8a5",
              "IPY_MODEL_45a9bcd64cd440b78a08c46fa317f14a"
            ],
            "layout": "IPY_MODEL_125de652990945de8e98c9b790379228"
          }
        },
        "8de3d65f353c48bcab0b28b56608d31d": {
          "model_module": "@jupyter-widgets/controls",
          "model_name": "HTMLModel",
          "model_module_version": "1.5.0",
          "state": {
            "_dom_classes": [],
            "_model_module": "@jupyter-widgets/controls",
            "_model_module_version": "1.5.0",
            "_model_name": "HTMLModel",
            "_view_count": null,
            "_view_module": "@jupyter-widgets/controls",
            "_view_module_version": "1.5.0",
            "_view_name": "HTMLView",
            "description": "",
            "description_tooltip": null,
            "layout": "IPY_MODEL_80acd07c14dd4839a20678d43cb13fc3",
            "placeholder": "​",
            "style": "IPY_MODEL_a31b766160424c3aac14743683390e1a",
            "value": "config.json: 100%"
          }
        },
        "23c5c326ed644378aa40e400f07bf8a5": {
          "model_module": "@jupyter-widgets/controls",
          "model_name": "FloatProgressModel",
          "model_module_version": "1.5.0",
          "state": {
            "_dom_classes": [],
            "_model_module": "@jupyter-widgets/controls",
            "_model_module_version": "1.5.0",
            "_model_name": "FloatProgressModel",
            "_view_count": null,
            "_view_module": "@jupyter-widgets/controls",
            "_view_module_version": "1.5.0",
            "_view_name": "ProgressView",
            "bar_style": "success",
            "description": "",
            "description_tooltip": null,
            "layout": "IPY_MODEL_90c7b5c8a58744dbb28d2d34d51124e8",
            "max": 570,
            "min": 0,
            "orientation": "horizontal",
            "style": "IPY_MODEL_a8c6b5ecd62146cf87a99a1c68b7e0d9",
            "value": 570
          }
        },
        "45a9bcd64cd440b78a08c46fa317f14a": {
          "model_module": "@jupyter-widgets/controls",
          "model_name": "HTMLModel",
          "model_module_version": "1.5.0",
          "state": {
            "_dom_classes": [],
            "_model_module": "@jupyter-widgets/controls",
            "_model_module_version": "1.5.0",
            "_model_name": "HTMLModel",
            "_view_count": null,
            "_view_module": "@jupyter-widgets/controls",
            "_view_module_version": "1.5.0",
            "_view_name": "HTMLView",
            "description": "",
            "description_tooltip": null,
            "layout": "IPY_MODEL_55fcb6e5efdd4ed2a9caadb8bc3cd2ee",
            "placeholder": "​",
            "style": "IPY_MODEL_57dc3d77dd234a89b3f33bf849331813",
            "value": " 570/570 [00:00&lt;00:00, 31.7kB/s]"
          }
        },
        "125de652990945de8e98c9b790379228": {
          "model_module": "@jupyter-widgets/base",
          "model_name": "LayoutModel",
          "model_module_version": "1.2.0",
          "state": {
            "_model_module": "@jupyter-widgets/base",
            "_model_module_version": "1.2.0",
            "_model_name": "LayoutModel",
            "_view_count": null,
            "_view_module": "@jupyter-widgets/base",
            "_view_module_version": "1.2.0",
            "_view_name": "LayoutView",
            "align_content": null,
            "align_items": null,
            "align_self": null,
            "border": null,
            "bottom": null,
            "display": null,
            "flex": null,
            "flex_flow": null,
            "grid_area": null,
            "grid_auto_columns": null,
            "grid_auto_flow": null,
            "grid_auto_rows": null,
            "grid_column": null,
            "grid_gap": null,
            "grid_row": null,
            "grid_template_areas": null,
            "grid_template_columns": null,
            "grid_template_rows": null,
            "height": null,
            "justify_content": null,
            "justify_items": null,
            "left": null,
            "margin": null,
            "max_height": null,
            "max_width": null,
            "min_height": null,
            "min_width": null,
            "object_fit": null,
            "object_position": null,
            "order": null,
            "overflow": null,
            "overflow_x": null,
            "overflow_y": null,
            "padding": null,
            "right": null,
            "top": null,
            "visibility": null,
            "width": null
          }
        },
        "80acd07c14dd4839a20678d43cb13fc3": {
          "model_module": "@jupyter-widgets/base",
          "model_name": "LayoutModel",
          "model_module_version": "1.2.0",
          "state": {
            "_model_module": "@jupyter-widgets/base",
            "_model_module_version": "1.2.0",
            "_model_name": "LayoutModel",
            "_view_count": null,
            "_view_module": "@jupyter-widgets/base",
            "_view_module_version": "1.2.0",
            "_view_name": "LayoutView",
            "align_content": null,
            "align_items": null,
            "align_self": null,
            "border": null,
            "bottom": null,
            "display": null,
            "flex": null,
            "flex_flow": null,
            "grid_area": null,
            "grid_auto_columns": null,
            "grid_auto_flow": null,
            "grid_auto_rows": null,
            "grid_column": null,
            "grid_gap": null,
            "grid_row": null,
            "grid_template_areas": null,
            "grid_template_columns": null,
            "grid_template_rows": null,
            "height": null,
            "justify_content": null,
            "justify_items": null,
            "left": null,
            "margin": null,
            "max_height": null,
            "max_width": null,
            "min_height": null,
            "min_width": null,
            "object_fit": null,
            "object_position": null,
            "order": null,
            "overflow": null,
            "overflow_x": null,
            "overflow_y": null,
            "padding": null,
            "right": null,
            "top": null,
            "visibility": null,
            "width": null
          }
        },
        "a31b766160424c3aac14743683390e1a": {
          "model_module": "@jupyter-widgets/controls",
          "model_name": "DescriptionStyleModel",
          "model_module_version": "1.5.0",
          "state": {
            "_model_module": "@jupyter-widgets/controls",
            "_model_module_version": "1.5.0",
            "_model_name": "DescriptionStyleModel",
            "_view_count": null,
            "_view_module": "@jupyter-widgets/base",
            "_view_module_version": "1.2.0",
            "_view_name": "StyleView",
            "description_width": ""
          }
        },
        "90c7b5c8a58744dbb28d2d34d51124e8": {
          "model_module": "@jupyter-widgets/base",
          "model_name": "LayoutModel",
          "model_module_version": "1.2.0",
          "state": {
            "_model_module": "@jupyter-widgets/base",
            "_model_module_version": "1.2.0",
            "_model_name": "LayoutModel",
            "_view_count": null,
            "_view_module": "@jupyter-widgets/base",
            "_view_module_version": "1.2.0",
            "_view_name": "LayoutView",
            "align_content": null,
            "align_items": null,
            "align_self": null,
            "border": null,
            "bottom": null,
            "display": null,
            "flex": null,
            "flex_flow": null,
            "grid_area": null,
            "grid_auto_columns": null,
            "grid_auto_flow": null,
            "grid_auto_rows": null,
            "grid_column": null,
            "grid_gap": null,
            "grid_row": null,
            "grid_template_areas": null,
            "grid_template_columns": null,
            "grid_template_rows": null,
            "height": null,
            "justify_content": null,
            "justify_items": null,
            "left": null,
            "margin": null,
            "max_height": null,
            "max_width": null,
            "min_height": null,
            "min_width": null,
            "object_fit": null,
            "object_position": null,
            "order": null,
            "overflow": null,
            "overflow_x": null,
            "overflow_y": null,
            "padding": null,
            "right": null,
            "top": null,
            "visibility": null,
            "width": null
          }
        },
        "a8c6b5ecd62146cf87a99a1c68b7e0d9": {
          "model_module": "@jupyter-widgets/controls",
          "model_name": "ProgressStyleModel",
          "model_module_version": "1.5.0",
          "state": {
            "_model_module": "@jupyter-widgets/controls",
            "_model_module_version": "1.5.0",
            "_model_name": "ProgressStyleModel",
            "_view_count": null,
            "_view_module": "@jupyter-widgets/base",
            "_view_module_version": "1.2.0",
            "_view_name": "StyleView",
            "bar_color": null,
            "description_width": ""
          }
        },
        "55fcb6e5efdd4ed2a9caadb8bc3cd2ee": {
          "model_module": "@jupyter-widgets/base",
          "model_name": "LayoutModel",
          "model_module_version": "1.2.0",
          "state": {
            "_model_module": "@jupyter-widgets/base",
            "_model_module_version": "1.2.0",
            "_model_name": "LayoutModel",
            "_view_count": null,
            "_view_module": "@jupyter-widgets/base",
            "_view_module_version": "1.2.0",
            "_view_name": "LayoutView",
            "align_content": null,
            "align_items": null,
            "align_self": null,
            "border": null,
            "bottom": null,
            "display": null,
            "flex": null,
            "flex_flow": null,
            "grid_area": null,
            "grid_auto_columns": null,
            "grid_auto_flow": null,
            "grid_auto_rows": null,
            "grid_column": null,
            "grid_gap": null,
            "grid_row": null,
            "grid_template_areas": null,
            "grid_template_columns": null,
            "grid_template_rows": null,
            "height": null,
            "justify_content": null,
            "justify_items": null,
            "left": null,
            "margin": null,
            "max_height": null,
            "max_width": null,
            "min_height": null,
            "min_width": null,
            "object_fit": null,
            "object_position": null,
            "order": null,
            "overflow": null,
            "overflow_x": null,
            "overflow_y": null,
            "padding": null,
            "right": null,
            "top": null,
            "visibility": null,
            "width": null
          }
        },
        "57dc3d77dd234a89b3f33bf849331813": {
          "model_module": "@jupyter-widgets/controls",
          "model_name": "DescriptionStyleModel",
          "model_module_version": "1.5.0",
          "state": {
            "_model_module": "@jupyter-widgets/controls",
            "_model_module_version": "1.5.0",
            "_model_name": "DescriptionStyleModel",
            "_view_count": null,
            "_view_module": "@jupyter-widgets/base",
            "_view_module_version": "1.2.0",
            "_view_name": "StyleView",
            "description_width": ""
          }
        },
        "d836bb6747b542e7ba5755ba0c38b315": {
          "model_module": "@jupyter-widgets/controls",
          "model_name": "HBoxModel",
          "model_module_version": "1.5.0",
          "state": {
            "_dom_classes": [],
            "_model_module": "@jupyter-widgets/controls",
            "_model_module_version": "1.5.0",
            "_model_name": "HBoxModel",
            "_view_count": null,
            "_view_module": "@jupyter-widgets/controls",
            "_view_module_version": "1.5.0",
            "_view_name": "HBoxView",
            "box_style": "",
            "children": [
              "IPY_MODEL_c2e78807d4874832bd206e5c16d2af66",
              "IPY_MODEL_ebfaa45165cb4adcbe292fbf438ede52",
              "IPY_MODEL_8628a189e17c41d8b09f5c16bbad9557"
            ],
            "layout": "IPY_MODEL_5a621a5a76724158af185856b731117e"
          }
        },
        "c2e78807d4874832bd206e5c16d2af66": {
          "model_module": "@jupyter-widgets/controls",
          "model_name": "HTMLModel",
          "model_module_version": "1.5.0",
          "state": {
            "_dom_classes": [],
            "_model_module": "@jupyter-widgets/controls",
            "_model_module_version": "1.5.0",
            "_model_name": "HTMLModel",
            "_view_count": null,
            "_view_module": "@jupyter-widgets/controls",
            "_view_module_version": "1.5.0",
            "_view_name": "HTMLView",
            "description": "",
            "description_tooltip": null,
            "layout": "IPY_MODEL_d98104946d684ee0b51801578ba29db0",
            "placeholder": "​",
            "style": "IPY_MODEL_8c8bb54fb3c84f769afe6a4698c10337",
            "value": "model.safetensors: 100%"
          }
        },
        "ebfaa45165cb4adcbe292fbf438ede52": {
          "model_module": "@jupyter-widgets/controls",
          "model_name": "FloatProgressModel",
          "model_module_version": "1.5.0",
          "state": {
            "_dom_classes": [],
            "_model_module": "@jupyter-widgets/controls",
            "_model_module_version": "1.5.0",
            "_model_name": "FloatProgressModel",
            "_view_count": null,
            "_view_module": "@jupyter-widgets/controls",
            "_view_module_version": "1.5.0",
            "_view_name": "ProgressView",
            "bar_style": "success",
            "description": "",
            "description_tooltip": null,
            "layout": "IPY_MODEL_dd447d4d8e224d758a42de31b05ac327",
            "max": 440449768,
            "min": 0,
            "orientation": "horizontal",
            "style": "IPY_MODEL_54711065404740bbbfd909940a79c93f",
            "value": 440449768
          }
        },
        "8628a189e17c41d8b09f5c16bbad9557": {
          "model_module": "@jupyter-widgets/controls",
          "model_name": "HTMLModel",
          "model_module_version": "1.5.0",
          "state": {
            "_dom_classes": [],
            "_model_module": "@jupyter-widgets/controls",
            "_model_module_version": "1.5.0",
            "_model_name": "HTMLModel",
            "_view_count": null,
            "_view_module": "@jupyter-widgets/controls",
            "_view_module_version": "1.5.0",
            "_view_name": "HTMLView",
            "description": "",
            "description_tooltip": null,
            "layout": "IPY_MODEL_af508c95f4994537955f36eb15eac3b2",
            "placeholder": "​",
            "style": "IPY_MODEL_d6500109e2e34e8e9e1e63cb7160f38b",
            "value": " 440M/440M [00:05&lt;00:00, 56.4MB/s]"
          }
        },
        "5a621a5a76724158af185856b731117e": {
          "model_module": "@jupyter-widgets/base",
          "model_name": "LayoutModel",
          "model_module_version": "1.2.0",
          "state": {
            "_model_module": "@jupyter-widgets/base",
            "_model_module_version": "1.2.0",
            "_model_name": "LayoutModel",
            "_view_count": null,
            "_view_module": "@jupyter-widgets/base",
            "_view_module_version": "1.2.0",
            "_view_name": "LayoutView",
            "align_content": null,
            "align_items": null,
            "align_self": null,
            "border": null,
            "bottom": null,
            "display": null,
            "flex": null,
            "flex_flow": null,
            "grid_area": null,
            "grid_auto_columns": null,
            "grid_auto_flow": null,
            "grid_auto_rows": null,
            "grid_column": null,
            "grid_gap": null,
            "grid_row": null,
            "grid_template_areas": null,
            "grid_template_columns": null,
            "grid_template_rows": null,
            "height": null,
            "justify_content": null,
            "justify_items": null,
            "left": null,
            "margin": null,
            "max_height": null,
            "max_width": null,
            "min_height": null,
            "min_width": null,
            "object_fit": null,
            "object_position": null,
            "order": null,
            "overflow": null,
            "overflow_x": null,
            "overflow_y": null,
            "padding": null,
            "right": null,
            "top": null,
            "visibility": null,
            "width": null
          }
        },
        "d98104946d684ee0b51801578ba29db0": {
          "model_module": "@jupyter-widgets/base",
          "model_name": "LayoutModel",
          "model_module_version": "1.2.0",
          "state": {
            "_model_module": "@jupyter-widgets/base",
            "_model_module_version": "1.2.0",
            "_model_name": "LayoutModel",
            "_view_count": null,
            "_view_module": "@jupyter-widgets/base",
            "_view_module_version": "1.2.0",
            "_view_name": "LayoutView",
            "align_content": null,
            "align_items": null,
            "align_self": null,
            "border": null,
            "bottom": null,
            "display": null,
            "flex": null,
            "flex_flow": null,
            "grid_area": null,
            "grid_auto_columns": null,
            "grid_auto_flow": null,
            "grid_auto_rows": null,
            "grid_column": null,
            "grid_gap": null,
            "grid_row": null,
            "grid_template_areas": null,
            "grid_template_columns": null,
            "grid_template_rows": null,
            "height": null,
            "justify_content": null,
            "justify_items": null,
            "left": null,
            "margin": null,
            "max_height": null,
            "max_width": null,
            "min_height": null,
            "min_width": null,
            "object_fit": null,
            "object_position": null,
            "order": null,
            "overflow": null,
            "overflow_x": null,
            "overflow_y": null,
            "padding": null,
            "right": null,
            "top": null,
            "visibility": null,
            "width": null
          }
        },
        "8c8bb54fb3c84f769afe6a4698c10337": {
          "model_module": "@jupyter-widgets/controls",
          "model_name": "DescriptionStyleModel",
          "model_module_version": "1.5.0",
          "state": {
            "_model_module": "@jupyter-widgets/controls",
            "_model_module_version": "1.5.0",
            "_model_name": "DescriptionStyleModel",
            "_view_count": null,
            "_view_module": "@jupyter-widgets/base",
            "_view_module_version": "1.2.0",
            "_view_name": "StyleView",
            "description_width": ""
          }
        },
        "dd447d4d8e224d758a42de31b05ac327": {
          "model_module": "@jupyter-widgets/base",
          "model_name": "LayoutModel",
          "model_module_version": "1.2.0",
          "state": {
            "_model_module": "@jupyter-widgets/base",
            "_model_module_version": "1.2.0",
            "_model_name": "LayoutModel",
            "_view_count": null,
            "_view_module": "@jupyter-widgets/base",
            "_view_module_version": "1.2.0",
            "_view_name": "LayoutView",
            "align_content": null,
            "align_items": null,
            "align_self": null,
            "border": null,
            "bottom": null,
            "display": null,
            "flex": null,
            "flex_flow": null,
            "grid_area": null,
            "grid_auto_columns": null,
            "grid_auto_flow": null,
            "grid_auto_rows": null,
            "grid_column": null,
            "grid_gap": null,
            "grid_row": null,
            "grid_template_areas": null,
            "grid_template_columns": null,
            "grid_template_rows": null,
            "height": null,
            "justify_content": null,
            "justify_items": null,
            "left": null,
            "margin": null,
            "max_height": null,
            "max_width": null,
            "min_height": null,
            "min_width": null,
            "object_fit": null,
            "object_position": null,
            "order": null,
            "overflow": null,
            "overflow_x": null,
            "overflow_y": null,
            "padding": null,
            "right": null,
            "top": null,
            "visibility": null,
            "width": null
          }
        },
        "54711065404740bbbfd909940a79c93f": {
          "model_module": "@jupyter-widgets/controls",
          "model_name": "ProgressStyleModel",
          "model_module_version": "1.5.0",
          "state": {
            "_model_module": "@jupyter-widgets/controls",
            "_model_module_version": "1.5.0",
            "_model_name": "ProgressStyleModel",
            "_view_count": null,
            "_view_module": "@jupyter-widgets/base",
            "_view_module_version": "1.2.0",
            "_view_name": "StyleView",
            "bar_color": null,
            "description_width": ""
          }
        },
        "af508c95f4994537955f36eb15eac3b2": {
          "model_module": "@jupyter-widgets/base",
          "model_name": "LayoutModel",
          "model_module_version": "1.2.0",
          "state": {
            "_model_module": "@jupyter-widgets/base",
            "_model_module_version": "1.2.0",
            "_model_name": "LayoutModel",
            "_view_count": null,
            "_view_module": "@jupyter-widgets/base",
            "_view_module_version": "1.2.0",
            "_view_name": "LayoutView",
            "align_content": null,
            "align_items": null,
            "align_self": null,
            "border": null,
            "bottom": null,
            "display": null,
            "flex": null,
            "flex_flow": null,
            "grid_area": null,
            "grid_auto_columns": null,
            "grid_auto_flow": null,
            "grid_auto_rows": null,
            "grid_column": null,
            "grid_gap": null,
            "grid_row": null,
            "grid_template_areas": null,
            "grid_template_columns": null,
            "grid_template_rows": null,
            "height": null,
            "justify_content": null,
            "justify_items": null,
            "left": null,
            "margin": null,
            "max_height": null,
            "max_width": null,
            "min_height": null,
            "min_width": null,
            "object_fit": null,
            "object_position": null,
            "order": null,
            "overflow": null,
            "overflow_x": null,
            "overflow_y": null,
            "padding": null,
            "right": null,
            "top": null,
            "visibility": null,
            "width": null
          }
        },
        "d6500109e2e34e8e9e1e63cb7160f38b": {
          "model_module": "@jupyter-widgets/controls",
          "model_name": "DescriptionStyleModel",
          "model_module_version": "1.5.0",
          "state": {
            "_model_module": "@jupyter-widgets/controls",
            "_model_module_version": "1.5.0",
            "_model_name": "DescriptionStyleModel",
            "_view_count": null,
            "_view_module": "@jupyter-widgets/base",
            "_view_module_version": "1.2.0",
            "_view_name": "StyleView",
            "description_width": ""
          }
        }
      }
    }
  },
  "cells": [
    {
      "cell_type": "markdown",
      "metadata": {
        "id": "view-in-github",
        "colab_type": "text"
      },
      "source": [
        "<a href=\"https://colab.research.google.com/github/tanvir0188/MLSummer24/blob/main/NLP_Deep_Model_Using_Tensorflow.ipynb\" target=\"_parent\"><img src=\"https://colab.research.google.com/assets/colab-badge.svg\" alt=\"Open In Colab\"/></a>"
      ]
    },
    {
      "cell_type": "markdown",
      "source": [
        "# Dataset"
      ],
      "metadata": {
        "id": "t_qywUkS0L2k"
      }
    },
    {
      "cell_type": "markdown",
      "source": [
        "Data source: https://data.mendeley.com/datasets/8fbdhh72gs/5"
      ],
      "metadata": {
        "id": "ypHJ5K7c0Pgi"
      }
    },
    {
      "cell_type": "code",
      "source": [
        "!pip install --upgrade pip\n",
        "\n",
        "\n",
        "!pip install -q transformers==4.30.0\n",
        "!pip install -q  tensorflow==2.12.0"
      ],
      "metadata": {
        "id": "L3vXNO4dzlsn",
        "outputId": "e6ffa5c6-31b0-47ca-935c-4697b269e051",
        "colab": {
          "base_uri": "https://localhost:8080/"
        }
      },
      "execution_count": 1,
      "outputs": [
        {
          "output_type": "stream",
          "name": "stdout",
          "text": [
            "Requirement already satisfied: pip in /usr/local/lib/python3.10/dist-packages (24.1.2)\n",
            "Collecting pip\n",
            "  Using cached pip-24.2-py3-none-any.whl.metadata (3.6 kB)\n",
            "Using cached pip-24.2-py3-none-any.whl (1.8 MB)\n",
            "Installing collected packages: pip\n",
            "  Attempting uninstall: pip\n",
            "    Found existing installation: pip 24.1.2\n",
            "    Uninstalling pip-24.1.2:\n",
            "      Successfully uninstalled pip-24.1.2\n",
            "Successfully installed pip-24.2\n",
            "\u001b[2K   \u001b[90m━━━━━━━━━━━━━━━━━━━━━━━━━━━━━━━━━━━━━━━━\u001b[0m \u001b[32m7.2/7.2 MB\u001b[0m \u001b[31m31.0 MB/s\u001b[0m eta \u001b[36m0:00:00\u001b[0m\n",
            "\u001b[2K   \u001b[90m━━━━━━━━━━━━━━━━━━━━━━━━━━━━━━━━━━━━━━━━\u001b[0m \u001b[32m7.8/7.8 MB\u001b[0m \u001b[31m44.2 MB/s\u001b[0m eta \u001b[36m0:00:00\u001b[0m\n",
            "\u001b[2K   \u001b[90m━━━━━━━━━━━━━━━━━━━━━━━━━━━━━━━━━━━━━━━━\u001b[0m \u001b[32m585.9/585.9 MB\u001b[0m \u001b[31m43.8 MB/s\u001b[0m eta \u001b[36m0:00:00\u001b[0m\n",
            "\u001b[2K   \u001b[90m━━━━━━━━━━━━━━━━━━━━━━━━━━━━━━━━━━━━━━━━\u001b[0m \u001b[32m1.7/1.7 MB\u001b[0m \u001b[31m49.0 MB/s\u001b[0m eta \u001b[36m0:00:00\u001b[0m\n",
            "\u001b[2K   \u001b[90m━━━━━━━━━━━━━━━━━━━━━━━━━━━━━━━━━━━━━━━━\u001b[0m \u001b[32m17.1/17.1 MB\u001b[0m \u001b[31m96.8 MB/s\u001b[0m eta \u001b[36m0:00:00\u001b[0m\n",
            "\u001b[2K   \u001b[90m━━━━━━━━━━━━━━━━━━━━━━━━━━━━━━━━━━━━━━━━\u001b[0m \u001b[32m5.6/5.6 MB\u001b[0m \u001b[31m73.3 MB/s\u001b[0m eta \u001b[36m0:00:00\u001b[0m\n",
            "\u001b[?25h\u001b[31mERROR: pip's dependency resolver does not currently take into account all the packages that are installed. This behaviour is the source of the following dependency conflicts.\n",
            "albucore 0.0.14 requires numpy>=1.24, but you have numpy 1.23.5 which is incompatible.\n",
            "albumentations 1.4.14 requires numpy>=1.24.4, but you have numpy 1.23.5 which is incompatible.\n",
            "bigframes 1.17.0 requires numpy>=1.24.0, but you have numpy 1.23.5 which is incompatible.\n",
            "chex 0.1.86 requires numpy>=1.24.1, but you have numpy 1.23.5 which is incompatible.\n",
            "pandas-stubs 2.1.4.231227 requires numpy>=1.26.0; python_version < \"3.13\", but you have numpy 1.23.5 which is incompatible.\n",
            "tf-keras 2.17.0 requires tensorflow<2.18,>=2.17, but you have tensorflow 2.12.0 which is incompatible.\u001b[0m\u001b[31m\n",
            "\u001b[0m"
          ]
        }
      ]
    },
    {
      "cell_type": "code",
      "source": [
        "import tensorflow as tf\n",
        "print(tf.__version__)\n"
      ],
      "metadata": {
        "id": "xwTZ3AKc0DUm",
        "outputId": "e583ada0-9e84-443a-ffb5-de114955dc37",
        "colab": {
          "base_uri": "https://localhost:8080/"
        }
      },
      "execution_count": 2,
      "outputs": [
        {
          "output_type": "stream",
          "name": "stdout",
          "text": [
            "2.12.0\n"
          ]
        }
      ]
    },
    {
      "cell_type": "markdown",
      "source": [
        "# Load Dataset\n"
      ],
      "metadata": {
        "id": "eFTj7vtsnwps"
      }
    },
    {
      "cell_type": "code",
      "execution_count": 3,
      "metadata": {
        "id": "Usro1BKGmpU5",
        "outputId": "cfeae3d1-0d1d-436f-a9dc-16da2f13d653",
        "colab": {
          "base_uri": "https://localhost:8080/"
        }
      },
      "outputs": [
        {
          "output_type": "stream",
          "name": "stdout",
          "text": [
            "/usr/local/lib/python3.10/dist-packages/gdown/__main__.py:132: FutureWarning: Option `--id` was deprecated in version 4.3.1 and will be removed in 5.0. You don't need to pass it anymore to use a file ID.\n",
            "  warnings.warn(\n",
            "Downloading...\n",
            "From: https://drive.google.com/uc?id=1VEanmIImFMEkqt_4S9RuEdpUqQYMZaro\n",
            "To: /content/balanced_emotion_subset.csv\n",
            "100% 12.0k/12.0k [00:00<00:00, 19.0MB/s]\n"
          ]
        }
      ],
      "source": [
        "!gdown --id 1VEanmIImFMEkqt_4S9RuEdpUqQYMZaro"
      ]
    },
    {
      "cell_type": "code",
      "source": [
        "import pandas as pd\n",
        "\n",
        "# Load the dataset\n",
        "df = pd.read_csv('/content/balanced_emotion_subset.csv')\n",
        "\n",
        "df.head()"
      ],
      "metadata": {
        "id": "LOsAdEtBn8wq",
        "outputId": "52c1c0c1-9764-483b-af2c-b1258c71baab",
        "colab": {
          "base_uri": "https://localhost:8080/",
          "height": 310
        }
      },
      "execution_count": 9,
      "outputs": [
        {
          "output_type": "execute_result",
          "data": {
            "text/plain": [
              "   Unnamed: 0 created_at  favorite_count  \\\n",
              "0         995   6/6/2023              41   \n",
              "1        1134  5/14/2023              49   \n",
              "2       37566  9/13/2022              63   \n",
              "3       27978  2/13/2023               0   \n",
              "4         327  6/12/2023             105   \n",
              "\n",
              "                                           full_text  reply_count  \\\n",
              "0  ðhow to join:\\n\\nâ¢ follow us &amp; @thund...            2   \n",
              "1  $usdc currently holds the position of being th...           12   \n",
              "2  âï¸ come have breakfast with sushi in new y...            6   \n",
              "3  rt @spideycyp_155: students of ghana ð¬ð­ ...            0   \n",
              "4  fomc rate hike cancelled. $xrp lawsuit ending!...           42   \n",
              "\n",
              "   retweet_count                                         clean_text  \\\n",
              "0             32  ðhow join â follow u amp thundercorelab twitte...   \n",
              "1             14  usdc currently hold position bridged asset eth...   \n",
              "2             20  âï come breakfast sushi new york ðºð messarima...   \n",
              "3            915  rt spideycyp_155 student ghana ðð empowering b...   \n",
              "4             14  fomc rate hike cancelled xrp lawsuit ending ga...   \n",
              "\n",
              "   importance_coefficient  importance_coefficient_normalized  \\\n",
              "0                   115.0                           0.000199   \n",
              "1                   118.0                           0.000204   \n",
              "2                   149.0                           0.000258   \n",
              "3                   915.0                           0.001582   \n",
              "4                   245.0                           0.000424   \n",
              "\n",
              "            new_coins                                             scores  \\\n",
              "0         (amp,sushi)  {'neg': 0.0, 'neu': 0.806, 'pos': 0.194, 'comp...   \n",
              "1     (ethereum,usdc)  {'neg': 0.0, 'neu': 0.824, 'pos': 0.176, 'comp...   \n",
              "2             (sushi)  {'neg': 0.0, 'neu': 1.0, 'pos': 0.0, 'compound...   \n",
              "3           (binance)  {'neg': 0.073, 'neu': 0.778, 'pos': 0.149, 'co...   \n",
              "4  (link,bitcoin,xrp)  {'neg': 0.252, 'neu': 0.748, 'pos': 0.0, 'comp...   \n",
              "\n",
              "   compound sentiment_type  emotion  \n",
              "0    0.8519       POSITIVE  Neutral  \n",
              "1    0.6764       POSITIVE  Neutral  \n",
              "2    0.0000        NEUTRAL  Neutral  \n",
              "3    0.3939       POSITIVE  Neutral  \n",
              "4   -0.7955       NEGATIVE      Sad  "
            ],
            "text/html": [
              "\n",
              "  <div id=\"df-d1acca32-2e4a-496d-924e-3b2e6b536d04\" class=\"colab-df-container\">\n",
              "    <div>\n",
              "<style scoped>\n",
              "    .dataframe tbody tr th:only-of-type {\n",
              "        vertical-align: middle;\n",
              "    }\n",
              "\n",
              "    .dataframe tbody tr th {\n",
              "        vertical-align: top;\n",
              "    }\n",
              "\n",
              "    .dataframe thead th {\n",
              "        text-align: right;\n",
              "    }\n",
              "</style>\n",
              "<table border=\"1\" class=\"dataframe\">\n",
              "  <thead>\n",
              "    <tr style=\"text-align: right;\">\n",
              "      <th></th>\n",
              "      <th>Unnamed: 0</th>\n",
              "      <th>created_at</th>\n",
              "      <th>favorite_count</th>\n",
              "      <th>full_text</th>\n",
              "      <th>reply_count</th>\n",
              "      <th>retweet_count</th>\n",
              "      <th>clean_text</th>\n",
              "      <th>importance_coefficient</th>\n",
              "      <th>importance_coefficient_normalized</th>\n",
              "      <th>new_coins</th>\n",
              "      <th>scores</th>\n",
              "      <th>compound</th>\n",
              "      <th>sentiment_type</th>\n",
              "      <th>emotion</th>\n",
              "    </tr>\n",
              "  </thead>\n",
              "  <tbody>\n",
              "    <tr>\n",
              "      <th>0</th>\n",
              "      <td>995</td>\n",
              "      <td>6/6/2023</td>\n",
              "      <td>41</td>\n",
              "      <td>ðhow to join:\\n\\nâ¢ follow us &amp;amp; @thund...</td>\n",
              "      <td>2</td>\n",
              "      <td>32</td>\n",
              "      <td>ðhow join â follow u amp thundercorelab twitte...</td>\n",
              "      <td>115.0</td>\n",
              "      <td>0.000199</td>\n",
              "      <td>(amp,sushi)</td>\n",
              "      <td>{'neg': 0.0, 'neu': 0.806, 'pos': 0.194, 'comp...</td>\n",
              "      <td>0.8519</td>\n",
              "      <td>POSITIVE</td>\n",
              "      <td>Neutral</td>\n",
              "    </tr>\n",
              "    <tr>\n",
              "      <th>1</th>\n",
              "      <td>1134</td>\n",
              "      <td>5/14/2023</td>\n",
              "      <td>49</td>\n",
              "      <td>$usdc currently holds the position of being th...</td>\n",
              "      <td>12</td>\n",
              "      <td>14</td>\n",
              "      <td>usdc currently hold position bridged asset eth...</td>\n",
              "      <td>118.0</td>\n",
              "      <td>0.000204</td>\n",
              "      <td>(ethereum,usdc)</td>\n",
              "      <td>{'neg': 0.0, 'neu': 0.824, 'pos': 0.176, 'comp...</td>\n",
              "      <td>0.6764</td>\n",
              "      <td>POSITIVE</td>\n",
              "      <td>Neutral</td>\n",
              "    </tr>\n",
              "    <tr>\n",
              "      <th>2</th>\n",
              "      <td>37566</td>\n",
              "      <td>9/13/2022</td>\n",
              "      <td>63</td>\n",
              "      <td>âï¸ come have breakfast with sushi in new y...</td>\n",
              "      <td>6</td>\n",
              "      <td>20</td>\n",
              "      <td>âï come breakfast sushi new york ðºð messarima...</td>\n",
              "      <td>149.0</td>\n",
              "      <td>0.000258</td>\n",
              "      <td>(sushi)</td>\n",
              "      <td>{'neg': 0.0, 'neu': 1.0, 'pos': 0.0, 'compound...</td>\n",
              "      <td>0.0000</td>\n",
              "      <td>NEUTRAL</td>\n",
              "      <td>Neutral</td>\n",
              "    </tr>\n",
              "    <tr>\n",
              "      <th>3</th>\n",
              "      <td>27978</td>\n",
              "      <td>2/13/2023</td>\n",
              "      <td>0</td>\n",
              "      <td>rt @spideycyp_155: students of ghana ð¬ð­ ...</td>\n",
              "      <td>0</td>\n",
              "      <td>915</td>\n",
              "      <td>rt spideycyp_155 student ghana ðð empowering b...</td>\n",
              "      <td>915.0</td>\n",
              "      <td>0.001582</td>\n",
              "      <td>(binance)</td>\n",
              "      <td>{'neg': 0.073, 'neu': 0.778, 'pos': 0.149, 'co...</td>\n",
              "      <td>0.3939</td>\n",
              "      <td>POSITIVE</td>\n",
              "      <td>Neutral</td>\n",
              "    </tr>\n",
              "    <tr>\n",
              "      <th>4</th>\n",
              "      <td>327</td>\n",
              "      <td>6/12/2023</td>\n",
              "      <td>105</td>\n",
              "      <td>fomc rate hike cancelled. $xrp lawsuit ending!...</td>\n",
              "      <td>42</td>\n",
              "      <td>14</td>\n",
              "      <td>fomc rate hike cancelled xrp lawsuit ending ga...</td>\n",
              "      <td>245.0</td>\n",
              "      <td>0.000424</td>\n",
              "      <td>(link,bitcoin,xrp)</td>\n",
              "      <td>{'neg': 0.252, 'neu': 0.748, 'pos': 0.0, 'comp...</td>\n",
              "      <td>-0.7955</td>\n",
              "      <td>NEGATIVE</td>\n",
              "      <td>Sad</td>\n",
              "    </tr>\n",
              "  </tbody>\n",
              "</table>\n",
              "</div>\n",
              "    <div class=\"colab-df-buttons\">\n",
              "\n",
              "  <div class=\"colab-df-container\">\n",
              "    <button class=\"colab-df-convert\" onclick=\"convertToInteractive('df-d1acca32-2e4a-496d-924e-3b2e6b536d04')\"\n",
              "            title=\"Convert this dataframe to an interactive table.\"\n",
              "            style=\"display:none;\">\n",
              "\n",
              "  <svg xmlns=\"http://www.w3.org/2000/svg\" height=\"24px\" viewBox=\"0 -960 960 960\">\n",
              "    <path d=\"M120-120v-720h720v720H120Zm60-500h600v-160H180v160Zm220 220h160v-160H400v160Zm0 220h160v-160H400v160ZM180-400h160v-160H180v160Zm440 0h160v-160H620v160ZM180-180h160v-160H180v160Zm440 0h160v-160H620v160Z\"/>\n",
              "  </svg>\n",
              "    </button>\n",
              "\n",
              "  <style>\n",
              "    .colab-df-container {\n",
              "      display:flex;\n",
              "      gap: 12px;\n",
              "    }\n",
              "\n",
              "    .colab-df-convert {\n",
              "      background-color: #E8F0FE;\n",
              "      border: none;\n",
              "      border-radius: 50%;\n",
              "      cursor: pointer;\n",
              "      display: none;\n",
              "      fill: #1967D2;\n",
              "      height: 32px;\n",
              "      padding: 0 0 0 0;\n",
              "      width: 32px;\n",
              "    }\n",
              "\n",
              "    .colab-df-convert:hover {\n",
              "      background-color: #E2EBFA;\n",
              "      box-shadow: 0px 1px 2px rgba(60, 64, 67, 0.3), 0px 1px 3px 1px rgba(60, 64, 67, 0.15);\n",
              "      fill: #174EA6;\n",
              "    }\n",
              "\n",
              "    .colab-df-buttons div {\n",
              "      margin-bottom: 4px;\n",
              "    }\n",
              "\n",
              "    [theme=dark] .colab-df-convert {\n",
              "      background-color: #3B4455;\n",
              "      fill: #D2E3FC;\n",
              "    }\n",
              "\n",
              "    [theme=dark] .colab-df-convert:hover {\n",
              "      background-color: #434B5C;\n",
              "      box-shadow: 0px 1px 3px 1px rgba(0, 0, 0, 0.15);\n",
              "      filter: drop-shadow(0px 1px 2px rgba(0, 0, 0, 0.3));\n",
              "      fill: #FFFFFF;\n",
              "    }\n",
              "  </style>\n",
              "\n",
              "    <script>\n",
              "      const buttonEl =\n",
              "        document.querySelector('#df-d1acca32-2e4a-496d-924e-3b2e6b536d04 button.colab-df-convert');\n",
              "      buttonEl.style.display =\n",
              "        google.colab.kernel.accessAllowed ? 'block' : 'none';\n",
              "\n",
              "      async function convertToInteractive(key) {\n",
              "        const element = document.querySelector('#df-d1acca32-2e4a-496d-924e-3b2e6b536d04');\n",
              "        const dataTable =\n",
              "          await google.colab.kernel.invokeFunction('convertToInteractive',\n",
              "                                                    [key], {});\n",
              "        if (!dataTable) return;\n",
              "\n",
              "        const docLinkHtml = 'Like what you see? Visit the ' +\n",
              "          '<a target=\"_blank\" href=https://colab.research.google.com/notebooks/data_table.ipynb>data table notebook</a>'\n",
              "          + ' to learn more about interactive tables.';\n",
              "        element.innerHTML = '';\n",
              "        dataTable['output_type'] = 'display_data';\n",
              "        await google.colab.output.renderOutput(dataTable, element);\n",
              "        const docLink = document.createElement('div');\n",
              "        docLink.innerHTML = docLinkHtml;\n",
              "        element.appendChild(docLink);\n",
              "      }\n",
              "    </script>\n",
              "  </div>\n",
              "\n",
              "\n",
              "<div id=\"df-a830d4d0-b7b2-4185-ad91-331ad651f662\">\n",
              "  <button class=\"colab-df-quickchart\" onclick=\"quickchart('df-a830d4d0-b7b2-4185-ad91-331ad651f662')\"\n",
              "            title=\"Suggest charts\"\n",
              "            style=\"display:none;\">\n",
              "\n",
              "<svg xmlns=\"http://www.w3.org/2000/svg\" height=\"24px\"viewBox=\"0 0 24 24\"\n",
              "     width=\"24px\">\n",
              "    <g>\n",
              "        <path d=\"M19 3H5c-1.1 0-2 .9-2 2v14c0 1.1.9 2 2 2h14c1.1 0 2-.9 2-2V5c0-1.1-.9-2-2-2zM9 17H7v-7h2v7zm4 0h-2V7h2v10zm4 0h-2v-4h2v4z\"/>\n",
              "    </g>\n",
              "</svg>\n",
              "  </button>\n",
              "\n",
              "<style>\n",
              "  .colab-df-quickchart {\n",
              "      --bg-color: #E8F0FE;\n",
              "      --fill-color: #1967D2;\n",
              "      --hover-bg-color: #E2EBFA;\n",
              "      --hover-fill-color: #174EA6;\n",
              "      --disabled-fill-color: #AAA;\n",
              "      --disabled-bg-color: #DDD;\n",
              "  }\n",
              "\n",
              "  [theme=dark] .colab-df-quickchart {\n",
              "      --bg-color: #3B4455;\n",
              "      --fill-color: #D2E3FC;\n",
              "      --hover-bg-color: #434B5C;\n",
              "      --hover-fill-color: #FFFFFF;\n",
              "      --disabled-bg-color: #3B4455;\n",
              "      --disabled-fill-color: #666;\n",
              "  }\n",
              "\n",
              "  .colab-df-quickchart {\n",
              "    background-color: var(--bg-color);\n",
              "    border: none;\n",
              "    border-radius: 50%;\n",
              "    cursor: pointer;\n",
              "    display: none;\n",
              "    fill: var(--fill-color);\n",
              "    height: 32px;\n",
              "    padding: 0;\n",
              "    width: 32px;\n",
              "  }\n",
              "\n",
              "  .colab-df-quickchart:hover {\n",
              "    background-color: var(--hover-bg-color);\n",
              "    box-shadow: 0 1px 2px rgba(60, 64, 67, 0.3), 0 1px 3px 1px rgba(60, 64, 67, 0.15);\n",
              "    fill: var(--button-hover-fill-color);\n",
              "  }\n",
              "\n",
              "  .colab-df-quickchart-complete:disabled,\n",
              "  .colab-df-quickchart-complete:disabled:hover {\n",
              "    background-color: var(--disabled-bg-color);\n",
              "    fill: var(--disabled-fill-color);\n",
              "    box-shadow: none;\n",
              "  }\n",
              "\n",
              "  .colab-df-spinner {\n",
              "    border: 2px solid var(--fill-color);\n",
              "    border-color: transparent;\n",
              "    border-bottom-color: var(--fill-color);\n",
              "    animation:\n",
              "      spin 1s steps(1) infinite;\n",
              "  }\n",
              "\n",
              "  @keyframes spin {\n",
              "    0% {\n",
              "      border-color: transparent;\n",
              "      border-bottom-color: var(--fill-color);\n",
              "      border-left-color: var(--fill-color);\n",
              "    }\n",
              "    20% {\n",
              "      border-color: transparent;\n",
              "      border-left-color: var(--fill-color);\n",
              "      border-top-color: var(--fill-color);\n",
              "    }\n",
              "    30% {\n",
              "      border-color: transparent;\n",
              "      border-left-color: var(--fill-color);\n",
              "      border-top-color: var(--fill-color);\n",
              "      border-right-color: var(--fill-color);\n",
              "    }\n",
              "    40% {\n",
              "      border-color: transparent;\n",
              "      border-right-color: var(--fill-color);\n",
              "      border-top-color: var(--fill-color);\n",
              "    }\n",
              "    60% {\n",
              "      border-color: transparent;\n",
              "      border-right-color: var(--fill-color);\n",
              "    }\n",
              "    80% {\n",
              "      border-color: transparent;\n",
              "      border-right-color: var(--fill-color);\n",
              "      border-bottom-color: var(--fill-color);\n",
              "    }\n",
              "    90% {\n",
              "      border-color: transparent;\n",
              "      border-bottom-color: var(--fill-color);\n",
              "    }\n",
              "  }\n",
              "</style>\n",
              "\n",
              "  <script>\n",
              "    async function quickchart(key) {\n",
              "      const quickchartButtonEl =\n",
              "        document.querySelector('#' + key + ' button');\n",
              "      quickchartButtonEl.disabled = true;  // To prevent multiple clicks.\n",
              "      quickchartButtonEl.classList.add('colab-df-spinner');\n",
              "      try {\n",
              "        const charts = await google.colab.kernel.invokeFunction(\n",
              "            'suggestCharts', [key], {});\n",
              "      } catch (error) {\n",
              "        console.error('Error during call to suggestCharts:', error);\n",
              "      }\n",
              "      quickchartButtonEl.classList.remove('colab-df-spinner');\n",
              "      quickchartButtonEl.classList.add('colab-df-quickchart-complete');\n",
              "    }\n",
              "    (() => {\n",
              "      let quickchartButtonEl =\n",
              "        document.querySelector('#df-a830d4d0-b7b2-4185-ad91-331ad651f662 button');\n",
              "      quickchartButtonEl.style.display =\n",
              "        google.colab.kernel.accessAllowed ? 'block' : 'none';\n",
              "    })();\n",
              "  </script>\n",
              "</div>\n",
              "\n",
              "    </div>\n",
              "  </div>\n"
            ],
            "application/vnd.google.colaboratory.intrinsic+json": {
              "type": "dataframe",
              "variable_name": "df",
              "summary": "{\n  \"name\": \"df\",\n  \"rows\": 24,\n  \"fields\": [\n    {\n      \"column\": \"Unnamed: 0\",\n      \"properties\": {\n        \"dtype\": \"number\",\n        \"std\": 13357,\n        \"min\": 327,\n        \"max\": 38955,\n        \"num_unique_values\": 24,\n        \"samples\": [\n          25684,\n          36527,\n          995\n        ],\n        \"semantic_type\": \"\",\n        \"description\": \"\"\n      }\n    },\n    {\n      \"column\": \"created_at\",\n      \"properties\": {\n        \"dtype\": \"object\",\n        \"num_unique_values\": 22,\n        \"samples\": [\n          \"6/6/2023\",\n          \"3/24/2023\",\n          \"12/31/2022\"\n        ],\n        \"semantic_type\": \"\",\n        \"description\": \"\"\n      }\n    },\n    {\n      \"column\": \"favorite_count\",\n      \"properties\": {\n        \"dtype\": \"number\",\n        \"std\": 1574,\n        \"min\": 0,\n        \"max\": 7099,\n        \"num_unique_values\": 20,\n        \"samples\": [\n          41,\n          44,\n          339\n        ],\n        \"semantic_type\": \"\",\n        \"description\": \"\"\n      }\n    },\n    {\n      \"column\": \"full_text\",\n      \"properties\": {\n        \"dtype\": \"string\",\n        \"num_unique_values\": 24,\n        \"samples\": [\n          \"always remember that #crypto is still the wild west and anything can happen. \\n\\nfortunately, we got through it all, most of the downtrend is behind us. those who stick around &amp; don't give up next year will benefit greatly.\\n\\nhappy 2023! \\u00f0\\u009f\\u00a5\\u0082\",\n          \"you can tell #cryptotwitter doesn't know much on topics because they all just repeat each other. it's a wild game of telephone. now all banks are bad, everything is crashing, stable coins all are going to zero, etc. fud spreads faster because fear is a powerful emotion https://t.co/bxl1pjsjnw\",\n          \"\\u00f0\\u009f\\u0099\\u008bhow to join:\\n\\n\\u00e2\\u0080\\u00a2 follow us &amp; @thundercorelab on twitter\\n\\u00e2\\u0080\\u00a2 join thundercore english tg group\\n\\u00e2\\u0080\\u00a2 retweet &amp; quote the launch tweet, tag 3 friends &amp; mention $tt $sushi\\n\\u00e2\\u0080\\u00a2 swap at least $10 worth of $tt via sushi\\n\\u00e2\\u0080\\u00a2 add at least $10 worth liquidity for any pair on sushi thundercore\"\n        ],\n        \"semantic_type\": \"\",\n        \"description\": \"\"\n      }\n    },\n    {\n      \"column\": \"reply_count\",\n      \"properties\": {\n        \"dtype\": \"number\",\n        \"std\": 120,\n        \"min\": 0,\n        \"max\": 443,\n        \"num_unique_values\": 19,\n        \"samples\": [\n          2,\n          19,\n          28\n        ],\n        \"semantic_type\": \"\",\n        \"description\": \"\"\n      }\n    },\n    {\n      \"column\": \"retweet_count\",\n      \"properties\": {\n        \"dtype\": \"number\",\n        \"std\": 399,\n        \"min\": 0,\n        \"max\": 1811,\n        \"num_unique_values\": 20,\n        \"samples\": [\n          32,\n          33,\n          9\n        ],\n        \"semantic_type\": \"\",\n        \"description\": \"\"\n      }\n    },\n    {\n      \"column\": \"clean_text\",\n      \"properties\": {\n        \"dtype\": \"string\",\n        \"num_unique_values\": 24,\n        \"samples\": [\n          \"always remember crypto still wild west anything happen fortunately got downtrend behind u stick around amp dont give next year benefit greatly happy 2023 \\u00f0\",\n          \"tell cryptotwitter doesnt know much topic repeat wild game telephone bank bad everything crashing stable coin going zero etc fud spread faster fear powerful emotion httpstcobxl1pjsjnw\",\n          \"\\u00f0how join \\u00e2 follow u amp thundercorelab twitter \\u00e2 join thundercore english tg group \\u00e2 retweet amp quote launch tweet tag 3 friend amp mention tt sushi \\u00e2 swap least 10 worth tt via sushi \\u00e2 add least 10 worth liquidity pair sushi thundercore\"\n        ],\n        \"semantic_type\": \"\",\n        \"description\": \"\"\n      }\n    },\n    {\n      \"column\": \"importance_coefficient\",\n      \"properties\": {\n        \"dtype\": \"number\",\n        \"std\": 3524.3495535151333,\n        \"min\": 3.5,\n        \"max\": 16230.5,\n        \"num_unique_values\": 24,\n        \"samples\": [\n          202.5,\n          715.5,\n          115.0\n        ],\n        \"semantic_type\": \"\",\n        \"description\": \"\"\n      }\n    },\n    {\n      \"column\": \"importance_coefficient_normalized\",\n      \"properties\": {\n        \"dtype\": \"number\",\n        \"std\": 0.006092588509836288,\n        \"min\": 6.05e-06,\n        \"max\": 0.028057877,\n        \"num_unique_values\": 24,\n        \"samples\": [\n          0.000350064,\n          0.001236894,\n          0.000198802\n        ],\n        \"semantic_type\": \"\",\n        \"description\": \"\"\n      }\n    },\n    {\n      \"column\": \"new_coins\",\n      \"properties\": {\n        \"dtype\": \"string\",\n        \"num_unique_values\": 20,\n        \"samples\": [\n          \"(amp,sushi)\",\n          \"(bitcoin)\",\n          \"(bitcoin,btc)\"\n        ],\n        \"semantic_type\": \"\",\n        \"description\": \"\"\n      }\n    },\n    {\n      \"column\": \"scores\",\n      \"properties\": {\n        \"dtype\": \"string\",\n        \"num_unique_values\": 20,\n        \"samples\": [\n          \"{'neg': 0.0, 'neu': 0.806, 'pos': 0.194, 'compound': 0.8519}\",\n          \"{'neg': 0.198, 'neu': 0.802, 'pos': 0.0, 'compound': -0.6369}\",\n          \"{'neg': 0.295, 'neu': 0.705, 'pos': 0.0, 'compound': -0.9313}\"\n        ],\n        \"semantic_type\": \"\",\n        \"description\": \"\"\n      }\n    },\n    {\n      \"column\": \"compound\",\n      \"properties\": {\n        \"dtype\": \"number\",\n        \"std\": 0.5726450269443174,\n        \"min\": -0.9313,\n        \"max\": 0.9587,\n        \"num_unique_values\": 19,\n        \"samples\": [\n          0.8519,\n          -0.2235,\n          0.2263\n        ],\n        \"semantic_type\": \"\",\n        \"description\": \"\"\n      }\n    },\n    {\n      \"column\": \"sentiment_type\",\n      \"properties\": {\n        \"dtype\": \"category\",\n        \"num_unique_values\": 3,\n        \"samples\": [\n          \"POSITIVE\",\n          \"NEUTRAL\",\n          \"NEGATIVE\"\n        ],\n        \"semantic_type\": \"\",\n        \"description\": \"\"\n      }\n    },\n    {\n      \"column\": \"emotion\",\n      \"properties\": {\n        \"dtype\": \"category\",\n        \"num_unique_values\": 6,\n        \"samples\": [\n          \"Neutral\",\n          \"Sad\",\n          \"Surprised\"\n        ],\n        \"semantic_type\": \"\",\n        \"description\": \"\"\n      }\n    }\n  ]\n}"
            }
          },
          "metadata": {},
          "execution_count": 9
        }
      ]
    },
    {
      "cell_type": "code",
      "source": [
        "df['clean_text']"
      ],
      "metadata": {
        "id": "g5iryXTRuLDY",
        "outputId": "9c79b5f8-892f-4608-d3dd-30fda3b839aa",
        "colab": {
          "base_uri": "https://localhost:8080/",
          "height": 836
        }
      },
      "execution_count": 5,
      "outputs": [
        {
          "output_type": "execute_result",
          "data": {
            "text/plain": [
              "0     ðhow join â follow u amp thundercorelab twitte...\n",
              "1     usdc currently hold position bridged asset eth...\n",
              "2     âï come breakfast sushi new york ðºð messarima...\n",
              "3     rt spideycyp_155 student ghana ðð empowering b...\n",
              "4     fomc rate hike cancelled xrp lawsuit ending ga...\n",
              "5     june 14 2018 bill hinman former director corpo...\n",
              "6     yeah dont think really dip buy right market st...\n",
              "7     breaking circle confirms 33 billion 40 billion...\n",
              "8     always remember crypto still wild west anythin...\n",
              "9     absolutely love seeing winning ticket language...\n",
              "10                                        win ðð ðð ð ð\n",
              "11    polkadot potential ecosystem near future thats...\n",
              "12    hell happens bull market shanghai fork eth ava...\n",
              "13    retail investor v pro redux retail saver pile ...\n",
              "14    itâs near impossible know whatâs actually happ...\n",
              "15    people mistakenly assume hate solana donât und...\n",
              "16    tell cryptotwitter doesnt know much topic repe...\n",
              "17    rethinking inflation bitcoin btc retreating al...\n",
              "18    rt coindesk general market fear various shock ...\n",
              "19    bitcoin there start move non stop fear doom gl...\n",
              "20    market tends unexpected eye btc heading 23300s...\n",
              "21    uniswap monthly user hitting 1 million first e...\n",
              "22    rt fidelity newest location somewhere unexpect...\n",
              "23    new longterm holder buying 15000 bitcoin month...\n",
              "Name: clean_text, dtype: object"
            ],
            "text/html": [
              "<div>\n",
              "<style scoped>\n",
              "    .dataframe tbody tr th:only-of-type {\n",
              "        vertical-align: middle;\n",
              "    }\n",
              "\n",
              "    .dataframe tbody tr th {\n",
              "        vertical-align: top;\n",
              "    }\n",
              "\n",
              "    .dataframe thead th {\n",
              "        text-align: right;\n",
              "    }\n",
              "</style>\n",
              "<table border=\"1\" class=\"dataframe\">\n",
              "  <thead>\n",
              "    <tr style=\"text-align: right;\">\n",
              "      <th></th>\n",
              "      <th>clean_text</th>\n",
              "    </tr>\n",
              "  </thead>\n",
              "  <tbody>\n",
              "    <tr>\n",
              "      <th>0</th>\n",
              "      <td>ðhow join â follow u amp thundercorelab twitte...</td>\n",
              "    </tr>\n",
              "    <tr>\n",
              "      <th>1</th>\n",
              "      <td>usdc currently hold position bridged asset eth...</td>\n",
              "    </tr>\n",
              "    <tr>\n",
              "      <th>2</th>\n",
              "      <td>âï come breakfast sushi new york ðºð messarima...</td>\n",
              "    </tr>\n",
              "    <tr>\n",
              "      <th>3</th>\n",
              "      <td>rt spideycyp_155 student ghana ðð empowering b...</td>\n",
              "    </tr>\n",
              "    <tr>\n",
              "      <th>4</th>\n",
              "      <td>fomc rate hike cancelled xrp lawsuit ending ga...</td>\n",
              "    </tr>\n",
              "    <tr>\n",
              "      <th>5</th>\n",
              "      <td>june 14 2018 bill hinman former director corpo...</td>\n",
              "    </tr>\n",
              "    <tr>\n",
              "      <th>6</th>\n",
              "      <td>yeah dont think really dip buy right market st...</td>\n",
              "    </tr>\n",
              "    <tr>\n",
              "      <th>7</th>\n",
              "      <td>breaking circle confirms 33 billion 40 billion...</td>\n",
              "    </tr>\n",
              "    <tr>\n",
              "      <th>8</th>\n",
              "      <td>always remember crypto still wild west anythin...</td>\n",
              "    </tr>\n",
              "    <tr>\n",
              "      <th>9</th>\n",
              "      <td>absolutely love seeing winning ticket language...</td>\n",
              "    </tr>\n",
              "    <tr>\n",
              "      <th>10</th>\n",
              "      <td>win ðð ðð ð ð</td>\n",
              "    </tr>\n",
              "    <tr>\n",
              "      <th>11</th>\n",
              "      <td>polkadot potential ecosystem near future thats...</td>\n",
              "    </tr>\n",
              "    <tr>\n",
              "      <th>12</th>\n",
              "      <td>hell happens bull market shanghai fork eth ava...</td>\n",
              "    </tr>\n",
              "    <tr>\n",
              "      <th>13</th>\n",
              "      <td>retail investor v pro redux retail saver pile ...</td>\n",
              "    </tr>\n",
              "    <tr>\n",
              "      <th>14</th>\n",
              "      <td>itâs near impossible know whatâs actually happ...</td>\n",
              "    </tr>\n",
              "    <tr>\n",
              "      <th>15</th>\n",
              "      <td>people mistakenly assume hate solana donât und...</td>\n",
              "    </tr>\n",
              "    <tr>\n",
              "      <th>16</th>\n",
              "      <td>tell cryptotwitter doesnt know much topic repe...</td>\n",
              "    </tr>\n",
              "    <tr>\n",
              "      <th>17</th>\n",
              "      <td>rethinking inflation bitcoin btc retreating al...</td>\n",
              "    </tr>\n",
              "    <tr>\n",
              "      <th>18</th>\n",
              "      <td>rt coindesk general market fear various shock ...</td>\n",
              "    </tr>\n",
              "    <tr>\n",
              "      <th>19</th>\n",
              "      <td>bitcoin there start move non stop fear doom gl...</td>\n",
              "    </tr>\n",
              "    <tr>\n",
              "      <th>20</th>\n",
              "      <td>market tends unexpected eye btc heading 23300s...</td>\n",
              "    </tr>\n",
              "    <tr>\n",
              "      <th>21</th>\n",
              "      <td>uniswap monthly user hitting 1 million first e...</td>\n",
              "    </tr>\n",
              "    <tr>\n",
              "      <th>22</th>\n",
              "      <td>rt fidelity newest location somewhere unexpect...</td>\n",
              "    </tr>\n",
              "    <tr>\n",
              "      <th>23</th>\n",
              "      <td>new longterm holder buying 15000 bitcoin month...</td>\n",
              "    </tr>\n",
              "  </tbody>\n",
              "</table>\n",
              "</div><br><label><b>dtype:</b> object</label>"
            ]
          },
          "metadata": {},
          "execution_count": 5
        }
      ]
    },
    {
      "cell_type": "code",
      "source": [
        "df.info()"
      ],
      "metadata": {
        "id": "0i1ArUl1oGUa",
        "outputId": "e175ef9a-ee4a-4517-f210-092222aab201",
        "colab": {
          "base_uri": "https://localhost:8080/"
        }
      },
      "execution_count": 6,
      "outputs": [
        {
          "output_type": "stream",
          "name": "stdout",
          "text": [
            "<class 'pandas.core.frame.DataFrame'>\n",
            "RangeIndex: 24 entries, 0 to 23\n",
            "Data columns (total 14 columns):\n",
            " #   Column                             Non-Null Count  Dtype  \n",
            "---  ------                             --------------  -----  \n",
            " 0   Unnamed: 0                         24 non-null     int64  \n",
            " 1   created_at                         24 non-null     object \n",
            " 2   favorite_count                     24 non-null     int64  \n",
            " 3   full_text                          24 non-null     object \n",
            " 4   reply_count                        24 non-null     int64  \n",
            " 5   retweet_count                      24 non-null     int64  \n",
            " 6   clean_text                         24 non-null     object \n",
            " 7   importance_coefficient             24 non-null     float64\n",
            " 8   importance_coefficient_normalized  24 non-null     float64\n",
            " 9   new_coins                          24 non-null     object \n",
            " 10  scores                             24 non-null     object \n",
            " 11  compound                           24 non-null     float64\n",
            " 12  sentiment_type                     24 non-null     object \n",
            " 13  emotion                            24 non-null     object \n",
            "dtypes: float64(3), int64(4), object(7)\n",
            "memory usage: 2.8+ KB\n"
          ]
        }
      ]
    },
    {
      "cell_type": "code",
      "source": [
        "from wordcloud import WordCloud\n",
        "import matplotlib.pyplot as plt\n",
        "import seaborn as sns\n",
        "# Word cloud for text data\n",
        "text = ' '.join(df['full_text'])\n",
        "wordcloud = WordCloud(max_font_size=50, max_words=100, background_color=\"white\").generate(text)\n",
        "plt.figure()\n",
        "plt.imshow(wordcloud, interpolation=\"bilinear\")\n",
        "plt.axis(\"off\")\n",
        "plt.show()"
      ],
      "metadata": {
        "id": "hVuh5HQnqxAr",
        "outputId": "27c24556-5359-4119-80f9-c67a7b400ba1",
        "colab": {
          "base_uri": "https://localhost:8080/",
          "height": 285
        }
      },
      "execution_count": 13,
      "outputs": [
        {
          "output_type": "display_data",
          "data": {
            "text/plain": [
              "<Figure size 640x480 with 1 Axes>"
            ],
            "image/png": "[encoded data removed]"
          },
          "metadata": {}
        }
      ]
    },
    {
      "cell_type": "code",
      "source": [
        "# Calculate the value counts of the 'emotion' column\n",
        "emotion_counts = df['emotion'].value_counts()\n",
        "\n",
        "# Create a bar plot\n",
        "plt.figure(figsize=(10, 6))\n",
        "sns.barplot(x=emotion_counts.index, y=emotion_counts.values)\n",
        "plt.title('Distribution of Emotions')\n",
        "plt.xlabel('Emotion')\n",
        "plt.ylabel('Frequency')\n",
        "plt.xticks(rotation=45)  # Rotate labels if necessary\n",
        "plt.show()"
      ],
      "metadata": {
        "id": "gUyNCZbzrRWT",
        "outputId": "4ccaede6-ddff-4d3f-c7f3-6bf5a32dd3a7",
        "colab": {
          "base_uri": "https://localhost:8080/",
          "height": 607
        }
      },
      "execution_count": 16,
      "outputs": [
        {
          "output_type": "display_data",
          "data": {
            "text/plain": [
              "<Figure size 1000x600 with 1 Axes>"
            ],
            "image/png": "[encoded data removed]"
          },
          "metadata": {}
        }
      ]
    },
    {
      "cell_type": "markdown",
      "source": [
        "## Text Data Analysis"
      ],
      "metadata": {
        "id": "BdCUG6xhrZZ_"
      }
    },
    {
      "cell_type": "code",
      "source": [
        "from collections import Counter\n",
        "import re\n",
        "\n",
        "# Function to clean and tokenize text\n",
        "def clean_and_tokenize(text):\n",
        "    # Remove special characters and numbers (optional, based on your requirement)\n",
        "    text = re.sub(r'[^A-Za-z\\s]', '', text)\n",
        "    # Tokenize by splitting the text into words\n",
        "    tokens = text.split()\n",
        "    return tokens\n",
        "\n",
        "# Load your dataset\n",
        "data = pd.read_csv('/content/balanced_emotion_subset.csv')\n",
        "\n",
        "# Apply tokenization to your text column (replace 'text_column' with your actual text column name)\n",
        "data['tokens'] = data['full_text'].apply(clean_and_tokenize)\n",
        "\n",
        "# Flatten the list of tokens and count occurrences\n",
        "all_tokens = [token for sublist in data['tokens'] for token in sublist]\n",
        "token_counts = Counter(all_tokens)\n",
        "\n",
        "# Display the most common tokens\n",
        "most_common_tokens = token_counts.most_common(20)  # Adjust the number as needed\n",
        "print(most_common_tokens)\n"
      ],
      "metadata": {
        "id": "_GR8fWWWrn1R",
        "outputId": "b138d8ca-9832-413e-c165-d03ba76fe76d",
        "colab": {
          "base_uri": "https://localhost:8080/"
        }
      },
      "execution_count": 17,
      "outputs": [
        {
          "output_type": "stream",
          "name": "stdout",
          "text": [
            "[('the', 34), ('of', 17), ('to', 16), ('and', 14), ('is', 13), ('a', 10), ('on', 9), ('are', 8), ('at', 7), ('for', 7), ('that', 7), ('i', 7), ('with', 6), ('you', 6), ('all', 6), ('in', 5), ('market', 5), ('amp', 4), ('sushi', 4), ('be', 4)]\n"
          ]
        }
      ]
    },
    {
      "cell_type": "code",
      "source": [
        "# Separate tokens and their counts for plotting\n",
        "tokens, counts = zip(*most_common_tokens)\n",
        "\n",
        "# Creating a bar plot\n",
        "plt.figure(figsize=(10, 6))\n",
        "plt.bar(tokens, counts)\n",
        "plt.title('Top 10 Most Common Tokens')\n",
        "plt.xlabel('Tokens')\n",
        "plt.ylabel('Frequency')\n",
        "plt.xticks(rotation=45)\n",
        "plt.show()"
      ],
      "metadata": {
        "id": "CL7W22AGrzr1",
        "outputId": "901a2cd0-985c-47a6-d402-3d682c875b7f",
        "colab": {
          "base_uri": "https://localhost:8080/",
          "height": 595
        }
      },
      "execution_count": 18,
      "outputs": [
        {
          "output_type": "display_data",
          "data": {
            "text/plain": [
              "<Figure size 1000x600 with 1 Axes>"
            ],
            "image/png": "[encoded data removed]"
          },
          "metadata": {}
        }
      ]
    },
    {
      "cell_type": "code",
      "source": [
        "# prompt: Using dataframe data: plot emotion bar plot\n",
        "\n",
        "#data.plot(kind='bar', x='emotion', y='value')\n",
        "data['emotion'].value_counts().plot(kind='bar')"
      ],
      "metadata": {
        "id": "RY-IVMPRvCbi",
        "outputId": "a98979fa-aaba-42a9-c4c7-b0e60bf5ec6e",
        "colab": {
          "base_uri": "https://localhost:8080/",
          "height": 520
        }
      },
      "execution_count": 19,
      "outputs": [
        {
          "output_type": "execute_result",
          "data": {
            "text/plain": [
              "<Axes: xlabel='emotion'>"
            ]
          },
          "metadata": {},
          "execution_count": 19
        },
        {
          "output_type": "display_data",
          "data": {
            "text/plain": [
              "<Figure size 640x480 with 1 Axes>"
            ],
            "image/png": "[encoded data removed]"
          },
          "metadata": {}
        }
      ]
    },
    {
      "cell_type": "code",
      "source": [
        "import pandas as pd\n",
        "import matplotlib.pyplot as plt\n",
        "from nltk.corpus import stopwords\n",
        "from nltk.tokenize import word_tokenize\n",
        "from nltk.util import ngrams\n",
        "from collections import Counter\n",
        "import nltk\n",
        "import re\n",
        "\n",
        "# Download NLTK resources\n",
        "nltk.download('punkt')\n",
        "nltk.download('stopwords')\n",
        "\n",
        "# Load dataset\n",
        "data = pd.read_csv('/content/balanced_emotion_subset.csv')\n",
        "\n",
        "# Stop words list\n",
        "stop_words = set(stopwords.words('english'))\n",
        "\n",
        "# Function to clean, tokenize and remove stop words\n",
        "def process_text(text):\n",
        "    # Lowercase and remove special characters\n",
        "    text = re.sub(r'[^A-Za-z\\s]', '', text).lower()\n",
        "    # Tokenize\n",
        "    tokens = word_tokenize(text)\n",
        "    # Remove stop words\n",
        "    filtered_tokens = [word for word in tokens if word not in stop_words]\n",
        "    return filtered_tokens\n",
        "\n",
        "# Apply text processing\n",
        "data['processed_tokens'] = data['clean_text'].apply(process_text)\n",
        "\n",
        "# Flatten the list of tokens and count occurrences\n",
        "all_tokens = [token for sublist in data['processed_tokens'] for token in sublist]\n",
        "token_counts = Counter(all_tokens)\n",
        "\n",
        "# Generate bigrams and trigrams\n",
        "bigrams = [bigram for sublist in data['processed_tokens'] for bigram in ngrams(sublist, 2)]\n",
        "trigrams = [trigram for sublist in data['processed_tokens'] for trigram in ngrams(sublist, 3)]\n",
        "\n",
        "# Count bigrams and trigrams\n",
        "bigram_counts = Counter(bigrams)\n",
        "trigram_counts = Counter(trigrams)\n",
        "\n",
        "# Function to plot most common n-grams\n",
        "def plot_ngrams(ngram_counts, title, n=10):\n",
        "    # Get most common n-grams\n",
        "    most_common_ngrams = ngram_counts.most_common(n)\n",
        "    # Prepare data for plotting\n",
        "    labels = [' '.join(ngram) for ngram, count in most_common_ngrams]\n",
        "    values = [count for ngram, count in most_common_ngrams]\n",
        "    # Plot\n",
        "    plt.figure(figsize=(10, 6))\n",
        "    plt.bar(labels, values)\n",
        "    plt.title(f'Top {n} Most Common {title}')\n",
        "    plt.xlabel(title)\n",
        "    plt.ylabel('Frequency')\n",
        "    plt.xticks(rotation=45)\n",
        "    plt.show()\n",
        "\n",
        "# Plotting\n",
        "plot_ngrams(token_counts, 'Words')\n",
        "plot_ngrams(bigram_counts, 'Bigrams')\n",
        "plot_ngrams(trigram_counts, 'Trigrams')\n"
      ],
      "metadata": {
        "id": "3bGCrrAxsYEc",
        "outputId": "b7ea8996-348d-43aa-e1a7-5f7039a79edc",
        "colab": {
          "base_uri": "https://localhost:8080/",
          "height": 1000
        }
      },
      "execution_count": 20,
      "outputs": [
        {
          "output_type": "stream",
          "name": "stderr",
          "text": [
            "[nltk_data] Downloading package punkt to /root/nltk_data...\n",
            "[nltk_data]   Unzipping tokenizers/punkt.zip.\n",
            "[nltk_data] Downloading package stopwords to /root/nltk_data...\n",
            "[nltk_data]   Unzipping corpora/stopwords.zip.\n"
          ]
        },
        {
          "output_type": "display_data",
          "data": {
            "text/plain": [
              "<Figure size 1000x600 with 1 Axes>"
            ],
            "image/png": "[encoded data removed]"
          },
          "metadata": {}
        },
        {
          "output_type": "display_data",
          "data": {
            "text/plain": [
              "<Figure size 1000x600 with 1 Axes>"
            ],
            "image/png": "[encoded data removed]"
          },
          "metadata": {}
        },
        {
          "output_type": "display_data",
          "data": {
            "text/plain": [
              "<Figure size 1000x600 with 1 Axes>"
            ],
            "image/png": "[encoded data removed]"
          },
          "metadata": {}
        }
      ]
    },
    {
      "cell_type": "markdown",
      "source": [
        "# Train BERT Model"
      ],
      "metadata": {
        "id": "R_n0scDyqk6D"
      }
    },
    {
      "cell_type": "markdown",
      "source": [
        "BERT (Bidirectional Encoder Representations from Transformers) is a groundbreaking model in the field of natural language processing (NLP) developed by Google. Its structure and approach represented a significant shift in how language models were traditionally built. Here's an overview of its structure:\n",
        "\n",
        "* Transformer Architecture: BERT is based on the Transformer architecture, which was introduced in the paper \"Attention is All You Need\" by Vaswani et al. The Transformer model is primarily known for its use of self-attention mechanisms, which enable the model to weigh the importance of different words in a sentence.\n",
        "\n",
        "* Bidirectional Context: Unlike previous models that processed text in a single direction (either left-to-right or right-to-left), BERT reads the entire sequence of words at once. This bidirectionality allows the model to understand the context of a word based on all of its surroundings (both left and right of the word).\n",
        "\n",
        "* Layers in BERT:\n",
        "\n",
        "> * Input Embedding Layer: This layer converts each input token (word or subword) into vectors that represent them. These embeddings include token embeddings, segment embeddings, and position embeddings.\n",
        "> > * Transformer Blocks: These are the core of the BERT model. Each block contains two sub-layers: a multi-head self-attention mechanism and a fully connected feed-forward network. BERT models vary in size, but the BERT-Base model contains 12 of these blocks, while BERT-Large has 24.\n",
        "> > * Normalization and Activation Functions: Within each Transformer block, there are normalization steps and activation functions (like GELU - Gaussian Error Linear Units) that aid in the training and effectiveness of the model.\n",
        "Pre-training and Fine-tuning:\n",
        "\n",
        "> * Pre-training: BERT is pre-trained on a large corpus of text in an unsupervised manner using two tasks: Masked Language Model (MLM) and Next Sentence Prediction (NSP). In MLM, some percentage of the input tokens are masked, and the model is trained to predict them. In NSP, the model learns to predict if one sentence logically follows another.\n",
        "> * Fine-tuning: After pre-training, BERT can be fine-tuned with additional output layers for various specific tasks like question answering, sentiment analysis, etc. During fine-tuning, the model is trained on a smaller, task-specific dataset.\n",
        "> * Output: The output of BERT can be tailored for various NLP tasks. For instance, in classification tasks, the output from the [CLS] token (a special token added at the beginning of each input) is used for the final classification.\n",
        "\n",
        "BERT's ability to understand the context of words in a sentence from both directions and its versatility in adapting to different NLP tasks made it a significant milestone in the field of AI and language understanding."
      ],
      "metadata": {
        "id": "xjUfcFkPIySU"
      }
    },
    {
      "cell_type": "code",
      "source": [
        "# for local systems\n",
        "# in colab its already installed\n",
        "#pip install transfermers"
      ],
      "metadata": {
        "id": "sevtGUJ_xoqP"
      },
      "execution_count": null,
      "outputs": []
    },
    {
      "cell_type": "code",
      "source": [
        "import tensorflow as tf\n",
        "from transformers import BertTokenizer, TFBertForSequenceClassification\n",
        "from sklearn.model_selection import train_test_split\n",
        "\n",
        "from tensorflow.keras.optimizers import Adam\n",
        "from tensorflow.keras.losses import SparseCategoricalCrossentropy\n",
        "from tensorflow.keras.metrics import SparseCategoricalAccuracy\n",
        "\n",
        "\n",
        "texts = df['full_text']  # or 'clean_text' based on your choice\n",
        "labels = df['emotion']\n",
        "\n",
        "# Split the dataset into training and testing sets\n",
        "train_texts, test_texts, train_labels, test_labels = train_test_split(texts, labels, test_size=0.2)\n",
        "\n",
        "# Initialize the tokenizer\n",
        "tokenizer = BertTokenizer.from_pretrained('bert-base-uncased')\n",
        "\n",
        "# Tokenize the text into input IDs, attention masks, and token type IDs\n",
        "def tokenize(texts):\n",
        "    return tokenizer(texts, padding=True, truncation=True, return_tensors='tf')\n",
        "\n",
        "train_encodings = tokenize(train_texts.tolist())\n",
        "test_encodings = tokenize(test_texts.tolist())\n",
        "\n",
        "# Convert labels to numeric values\n",
        "label_to_id = {label: id for id, label in enumerate(df['emotion'].unique())}\n",
        "train_labels = train_labels.apply(lambda x: label_to_id[x])\n",
        "test_labels = test_labels.apply(lambda x: label_to_id[x])\n",
        "\n",
        "\n"
      ],
      "metadata": {
        "id": "HMpES05cn254",
        "outputId": "1dfea2e5-34fd-4972-b05e-7d97ac610cda",
        "colab": {
          "base_uri": "https://localhost:8080/",
          "height": 281,
          "referenced_widgets": [
            "547a328a3b714baa8b1783b380475f4c",
            "22e32424902e46fab08ead1ebfbae30b",
            "d736ee8254924a3d900274cc9594a7ee",
            "392b1a4e5b204b8baeb45e1d3241aa8c",
            "60cb02a9699a4122beb862ea4948b3a1",
            "7c0c9306918c41d1b627e1cf957bb2b3",
            "c0a830a388f24552932caf0907fb1d3c",
            "82607a055ef14515939ff6cd7a4037c7",
            "7b6581418c704494beb702739a9531dd",
            "016035f3a6aa4759a7aaa87a7ecc5322",
            "32e7c4476bc44c4c876374633ea10864",
            "6f78282340b84b859de1359b3c3cf0e8",
            "8ab41aa6ca1e4a9a9092305e41b48eb5",
            "37688e796c094e47b59baf4ff08687e8",
            "85ffe78c63de449ca8222b2781dac46a",
            "b34158d2c6ae425fb4494c2bab79c224",
            "0bd0394d9e29431d9c6602495c0b9051",
            "61010cecfc344af3ae47296383a88dfc",
            "9ccc305251e749c78f260e342dca2b36",
            "b337630cbdad47b79a37c2c31bf6ab34",
            "f8360f9fe75c471a8fa7e47043eb83e9",
            "d8d2a6bf8e2e4ec2bc4585c3759e972b",
            "f65320a3ddfe473a812039369a66c245",
            "8de3d65f353c48bcab0b28b56608d31d",
            "23c5c326ed644378aa40e400f07bf8a5",
            "45a9bcd64cd440b78a08c46fa317f14a",
            "125de652990945de8e98c9b790379228",
            "80acd07c14dd4839a20678d43cb13fc3",
            "a31b766160424c3aac14743683390e1a",
            "90c7b5c8a58744dbb28d2d34d51124e8",
            "a8c6b5ecd62146cf87a99a1c68b7e0d9",
            "55fcb6e5efdd4ed2a9caadb8bc3cd2ee",
            "57dc3d77dd234a89b3f33bf849331813"
          ]
        }
      },
      "execution_count": 21,
      "outputs": [
        {
          "output_type": "stream",
          "name": "stderr",
          "text": [
            "/usr/local/lib/python3.10/dist-packages/huggingface_hub/file_download.py:1150: FutureWarning: `resume_download` is deprecated and will be removed in version 1.0.0. Downloads always resume when possible. If you want to force a new download, use `force_download=True`.\n",
            "  warnings.warn(\n",
            "/usr/local/lib/python3.10/dist-packages/huggingface_hub/utils/_token.py:89: UserWarning: \n",
            "The secret `HF_TOKEN` does not exist in your Colab secrets.\n",
            "To authenticate with the Hugging Face Hub, create a token in your settings tab (https://huggingface.co/settings/tokens), set it as secret in your Google Colab and restart your session.\n",
            "You will be able to reuse this secret in all of your notebooks.\n",
            "Please note that authentication is recommended but still optional to access public models or datasets.\n",
            "  warnings.warn(\n"
          ]
        },
        {
          "output_type": "display_data",
          "data": {
            "text/plain": [
              "vocab.txt:   0%|          | 0.00/232k [00:00<?, ?B/s]"
            ],
            "application/vnd.jupyter.widget-view+json": {
              "version_major": 2,
              "version_minor": 0,
              "model_id": "547a328a3b714baa8b1783b380475f4c"
            }
          },
          "metadata": {}
        },
        {
          "output_type": "display_data",
          "data": {
            "text/plain": [
              "tokenizer_config.json:   0%|          | 0.00/48.0 [00:00<?, ?B/s]"
            ],
            "application/vnd.jupyter.widget-view+json": {
              "version_major": 2,
              "version_minor": 0,
              "model_id": "6f78282340b84b859de1359b3c3cf0e8"
            }
          },
          "metadata": {}
        },
        {
          "output_type": "display_data",
          "data": {
            "text/plain": [
              "config.json:   0%|          | 0.00/570 [00:00<?, ?B/s]"
            ],
            "application/vnd.jupyter.widget-view+json": {
              "version_major": 2,
              "version_minor": 0,
              "model_id": "f65320a3ddfe473a812039369a66c245"
            }
          },
          "metadata": {}
        }
      ]
    },
    {
      "cell_type": "code",
      "source": [
        "import tensorflow as tf\n",
        "from transformers import BertTokenizer, TFBertForSequenceClassification\n",
        "from sklearn.model_selection import train_test_split\n",
        "\n",
        "from tensorflow.keras.optimizers import Adam\n",
        "from tensorflow.keras.losses import SparseCategoricalCrossentropy\n",
        "from tensorflow.keras.metrics import SparseCategoricalAccuracy\n",
        "\n",
        "# Disable distribution strategy if not needed\n",
        "tf.config.run_functions_eagerly(True)\n",
        "\n",
        "texts = df['full_text']  # or 'clean_text' based on your choice\n",
        "labels = df['emotion']\n",
        "\n",
        "# Split the dataset into training and testing sets\n",
        "train_texts, test_texts, train_labels, test_labels = train_test_split(texts, labels, test_size=0.2)\n",
        "\n",
        "# Initialize the tokenizer\n",
        "tokenizer = BertTokenizer.from_pretrained('bert-base-uncased')\n",
        "\n",
        "# Tokenize the text into input IDs, attention masks, and token type IDs\n",
        "def tokenize(texts):\n",
        "    return tokenizer(texts, padding=True, truncation=True, return_tensors='tf')\n",
        "\n",
        "train_encodings = tokenize(train_texts.tolist())\n",
        "test_encodings = tokenize(test_texts.tolist())\n",
        "\n",
        "# Convert labels to numeric values\n",
        "label_to_id = {label: id for id, label in enumerate(df['emotion'].unique())}\n",
        "train_labels = train_labels.apply(lambda x: label_to_id[x])\n",
        "test_labels = test_labels.apply(lambda x: label_to_id[x])\n",
        "\n",
        "# Load the pre-trained BERT model\n",
        "model = TFBertForSequenceClassification.from_pretrained('bert-base-uncased', num_labels=len(df['emotion'].unique()))\n",
        "\n",
        "# Compile the model\n",
        "optimizer = Adam(learning_rate=5e-5)\n",
        "loss = SparseCategoricalCrossentropy(from_logits=True)\n",
        "metric = SparseCategoricalAccuracy('accuracy')\n",
        "model.compile(optimizer=optimizer, loss=loss, metrics=[metric])\n",
        "\n",
        "# Train the model\n",
        "history = model.fit(\n",
        "    {'input_ids': train_encodings['input_ids'], 'attention_mask': train_encodings['attention_mask']},\n",
        "    train_labels,\n",
        "    batch_size=8,\n",
        "    epochs=3,\n",
        "    validation_data=({'input_ids': test_encodings['input_ids'], 'attention_mask': test_encodings['attention_mask']}, test_labels)\n",
        ")\n"
      ],
      "metadata": {
        "id": "TrWJVReKuFze",
        "outputId": "202f5843-3b87-45b2-d3ba-81afe625f6f8",
        "colab": {
          "base_uri": "https://localhost:8080/",
          "height": 290,
          "referenced_widgets": [
            "d836bb6747b542e7ba5755ba0c38b315",
            "c2e78807d4874832bd206e5c16d2af66",
            "ebfaa45165cb4adcbe292fbf438ede52",
            "8628a189e17c41d8b09f5c16bbad9557",
            "5a621a5a76724158af185856b731117e",
            "d98104946d684ee0b51801578ba29db0",
            "8c8bb54fb3c84f769afe6a4698c10337",
            "dd447d4d8e224d758a42de31b05ac327",
            "54711065404740bbbfd909940a79c93f",
            "af508c95f4994537955f36eb15eac3b2",
            "d6500109e2e34e8e9e1e63cb7160f38b"
          ]
        }
      },
      "execution_count": 22,
      "outputs": [
        {
          "output_type": "display_data",
          "data": {
            "text/plain": [
              "model.safetensors:   0%|          | 0.00/440M [00:00<?, ?B/s]"
            ],
            "application/vnd.jupyter.widget-view+json": {
              "version_major": 2,
              "version_minor": 0,
              "model_id": "d836bb6747b542e7ba5755ba0c38b315"
            }
          },
          "metadata": {}
        },
        {
          "output_type": "stream",
          "name": "stderr",
          "text": [
            "All PyTorch model weights were used when initializing TFBertForSequenceClassification.\n",
            "\n",
            "Some weights or buffers of the TF 2.0 model TFBertForSequenceClassification were not initialized from the PyTorch model and are newly initialized: ['classifier.weight', 'classifier.bias']\n",
            "You should probably TRAIN this model on a down-stream task to be able to use it for predictions and inference.\n",
            "/usr/local/lib/python3.10/dist-packages/tensorflow/python/data/ops/structured_function.py:254: UserWarning: Even though the `tf.config.experimental_run_functions_eagerly` option is set, this option does not apply to tf.data functions. To force eager execution of tf.data functions, please use `tf.data.experimental.enable_debug_mode()`.\n",
            "  warnings.warn(\n"
          ]
        },
        {
          "output_type": "stream",
          "name": "stdout",
          "text": [
            "Epoch 1/3\n",
            "3/3 [==============================] - 48s 11s/step - loss: 1.9191 - accuracy: 0.1053 - val_loss: 1.8803 - val_accuracy: 0.2000\n",
            "Epoch 2/3\n",
            "3/3 [==============================] - 36s 12s/step - loss: 1.6449 - accuracy: 0.3158 - val_loss: 1.9709 - val_accuracy: 0.2000\n",
            "Epoch 3/3\n",
            "3/3 [==============================] - 33s 10s/step - loss: 1.6105 - accuracy: 0.4211 - val_loss: 2.0391 - val_accuracy: 0.0000e+00\n"
          ]
        }
      ]
    },
    {
      "cell_type": "code",
      "source": [
        "# Load the pre-trained BERT model\n",
        "model = TFBertForSequenceClassification.from_pretrained('bert-base-uncased', num_labels=len(df['emotion'].unique()))\n",
        "\n",
        "# Compile the model\n",
        "optimizer = Adam(learning_rate=5e-5)\n",
        "loss = SparseCategoricalCrossentropy(from_logits=True)\n",
        "metric = SparseCategoricalAccuracy('accuracy')\n",
        "model.compile(optimizer=optimizer, loss=loss, metrics=[metric])\n",
        "\n",
        "# Train the model\n",
        "\"\"\"\n",
        "model.fit(\n",
        "    {'input_ids': train_encodings['input_ids'], 'attention_mask': train_encodings['attention_mask']},\n",
        "    train_labels,\n",
        "    batch_size=8,\n",
        "    epochs=3,\n",
        "    validation_data=({'input_ids': test_encodings['input_ids'], 'attention_mask': test_encodings['attention_mask']}, test_labels)\n",
        ")\"\"\"\n",
        "\n",
        "history = model.fit(\n",
        "    {'input_ids': train_encodings['input_ids'], 'attention_mask': train_encodings['attention_mask']},\n",
        "    train_labels,\n",
        "    batch_size=8,\n",
        "    epochs=3,\n",
        "    validation_data=({'input_ids': test_encodings['input_ids'], 'attention_mask': test_encodings['attention_mask']}, test_labels)\n",
        ")\n",
        "\n",
        "\n",
        "# Evaluate the model\n",
        "#model.evaluate({'input_ids': test_encodings['input_ids'], 'attention_mask': test_encodings['attention_mask']}, test_labels)"
      ],
      "metadata": {
        "id": "Mw6MrsHCoM6j",
        "outputId": "30d2d2ba-8119-482c-967f-290ea4c2a82e",
        "colab": {
          "base_uri": "https://localhost:8080/"
        }
      },
      "execution_count": 23,
      "outputs": [
        {
          "output_type": "stream",
          "name": "stderr",
          "text": [
            "All PyTorch model weights were used when initializing TFBertForSequenceClassification.\n",
            "\n",
            "Some weights or buffers of the TF 2.0 model TFBertForSequenceClassification were not initialized from the PyTorch model and are newly initialized: ['classifier.weight', 'classifier.bias']\n",
            "You should probably TRAIN this model on a down-stream task to be able to use it for predictions and inference.\n"
          ]
        },
        {
          "output_type": "stream",
          "name": "stdout",
          "text": [
            "Epoch 1/3\n",
            "3/3 [==============================] - 37s 12s/step - loss: 1.8105 - accuracy: 0.1053 - val_loss: 2.0096 - val_accuracy: 0.0000e+00\n",
            "Epoch 2/3\n",
            "3/3 [==============================] - 34s 11s/step - loss: 1.5644 - accuracy: 0.5789 - val_loss: 1.9349 - val_accuracy: 0.2000\n",
            "Epoch 3/3\n",
            "3/3 [==============================] - 38s 12s/step - loss: 1.5961 - accuracy: 0.5789 - val_loss: 1.9623 - val_accuracy: 0.2000\n"
          ]
        }
      ]
    },
    {
      "cell_type": "code",
      "source": [
        "import matplotlib.pyplot as plt\n",
        "\n",
        "# Plotting training and validation loss\n",
        "plt.figure(figsize=(10, 6))\n",
        "plt.plot(history.history['loss'], label='Training Loss')\n",
        "plt.plot(history.history['val_loss'], label='Validation Loss')\n",
        "plt.title('Loss Curve')\n",
        "plt.xlabel('Epochs')\n",
        "plt.ylabel('Loss')\n",
        "plt.legend()\n",
        "plt.show()\n"
      ],
      "metadata": {
        "id": "pJRdqTAjob7l",
        "outputId": "0cc5a7d1-e73b-4c9d-cdb2-ce6433b3e3c3",
        "colab": {
          "base_uri": "https://localhost:8080/",
          "height": 564
        }
      },
      "execution_count": 24,
      "outputs": [
        {
          "output_type": "display_data",
          "data": {
            "text/plain": [
              "<Figure size 1000x600 with 1 Axes>"
            ],
            "image/png": "[encoded data removed]"
          },
          "metadata": {}
        }
      ]
    },
    {
      "cell_type": "code",
      "source": [
        "# Make predictions\n",
        "predictions = model.predict({'input_ids': test_encodings['input_ids'], 'attention_mask': test_encodings['attention_mask']})\n",
        "predicted_labels = tf.argmax(predictions.logits, axis=1)\n"
      ],
      "metadata": {
        "id": "mNTE3GpFo_SN",
        "outputId": "8d7029f0-6b61-4f1d-cced-db5d182adc43",
        "colab": {
          "base_uri": "https://localhost:8080/"
        }
      },
      "execution_count": 25,
      "outputs": [
        {
          "output_type": "stream",
          "name": "stdout",
          "text": [
            "1/1 [==============================] - 3s 3s/step\n"
          ]
        }
      ]
    },
    {
      "cell_type": "code",
      "source": [
        "from sklearn.metrics import confusion_matrix, classification_report\n",
        "import numpy as np\n",
        "\n",
        "# Convert predictions and labels to numpy arrays for metric calculation\n",
        "predicted_labels = predicted_labels.numpy()\n",
        "true_labels = test_labels.to_numpy()\n",
        "\n",
        "# Compute the confusion matrix\n",
        "conf_matrix = confusion_matrix(true_labels, predicted_labels)\n",
        "\n",
        "# Compute precision, recall, and F1-score\n",
        "class_report = classification_report(true_labels, predicted_labels, target_names=label_to_id.keys(), output_dict=True)\n"
      ],
      "metadata": {
        "id": "-NtGU9xOpQ6O",
        "outputId": "e04f43ff-ecb9-4bce-a8ac-199c1bb03388",
        "colab": {
          "base_uri": "https://localhost:8080/"
        }
      },
      "execution_count": 26,
      "outputs": [
        {
          "output_type": "stream",
          "name": "stderr",
          "text": [
            "/usr/local/lib/python3.10/dist-packages/sklearn/metrics/_classification.py:1471: UndefinedMetricWarning: Precision and F-score are ill-defined and being set to 0.0 in labels with no predicted samples. Use `zero_division` parameter to control this behavior.\n",
            "  _warn_prf(average, modifier, msg_start, len(result))\n",
            "/usr/local/lib/python3.10/dist-packages/sklearn/metrics/_classification.py:1471: UndefinedMetricWarning: Recall and F-score are ill-defined and being set to 0.0 in labels with no true samples. Use `zero_division` parameter to control this behavior.\n",
            "  _warn_prf(average, modifier, msg_start, len(result))\n",
            "/usr/local/lib/python3.10/dist-packages/sklearn/metrics/_classification.py:1471: UndefinedMetricWarning: Precision and F-score are ill-defined and being set to 0.0 in labels with no predicted samples. Use `zero_division` parameter to control this behavior.\n",
            "  _warn_prf(average, modifier, msg_start, len(result))\n",
            "/usr/local/lib/python3.10/dist-packages/sklearn/metrics/_classification.py:1471: UndefinedMetricWarning: Recall and F-score are ill-defined and being set to 0.0 in labels with no true samples. Use `zero_division` parameter to control this behavior.\n",
            "  _warn_prf(average, modifier, msg_start, len(result))\n",
            "/usr/local/lib/python3.10/dist-packages/sklearn/metrics/_classification.py:1471: UndefinedMetricWarning: Precision and F-score are ill-defined and being set to 0.0 in labels with no predicted samples. Use `zero_division` parameter to control this behavior.\n",
            "  _warn_prf(average, modifier, msg_start, len(result))\n",
            "/usr/local/lib/python3.10/dist-packages/sklearn/metrics/_classification.py:1471: UndefinedMetricWarning: Recall and F-score are ill-defined and being set to 0.0 in labels with no true samples. Use `zero_division` parameter to control this behavior.\n",
            "  _warn_prf(average, modifier, msg_start, len(result))\n"
          ]
        }
      ]
    },
    {
      "cell_type": "code",
      "source": [
        "import seaborn as sns\n",
        "\n",
        "# Plot the confusion matrix\n",
        "plt.figure(figsize=(10, 8))\n",
        "sns.heatmap(conf_matrix, annot=True, fmt='g', xticklabels=label_to_id.keys(), yticklabels=label_to_id.keys())\n",
        "plt.xlabel('Predicted')\n",
        "plt.ylabel('True')\n",
        "plt.title('Confusion Matrix')\n",
        "plt.show()\n",
        "\n",
        "# Print precision, recall, and F1-score\n",
        "print(\"Classification Report:\")\n",
        "print(classification_report(true_labels, predicted_labels, target_names=label_to_id.keys()))\n"
      ],
      "metadata": {
        "id": "mpjFsxrdpSy-",
        "outputId": "02a64541-e8bb-4be2-a713-689b7eadea24",
        "colab": {
          "base_uri": "https://localhost:8080/",
          "height": 1000
        }
      },
      "execution_count": 27,
      "outputs": [
        {
          "output_type": "display_data",
          "data": {
            "text/plain": [
              "<Figure size 1000x800 with 2 Axes>"
            ],
            "image/png": "[encoded data removed]"
          },
          "metadata": {}
        },
        {
          "output_type": "stream",
          "name": "stdout",
          "text": [
            "Classification Report:\n",
            "              precision    recall  f1-score   support\n",
            "\n",
            "     Neutral       1.00      1.00      1.00         1\n",
            "         Sad       0.00      0.00      0.00         2\n",
            "       Happy       0.00      0.00      0.00         1\n",
            "       Angry       0.00      0.00      0.00         0\n",
            "     Fearful       0.00      0.00      0.00         1\n",
            "   Surprised       0.00      0.00      0.00         0\n",
            "\n",
            "    accuracy                           0.20         5\n",
            "   macro avg       0.17      0.17      0.17         5\n",
            "weighted avg       0.20      0.20      0.20         5\n",
            "\n"
          ]
        },
        {
          "output_type": "stream",
          "name": "stderr",
          "text": [
            "/usr/local/lib/python3.10/dist-packages/sklearn/metrics/_classification.py:1471: UndefinedMetricWarning: Precision and F-score are ill-defined and being set to 0.0 in labels with no predicted samples. Use `zero_division` parameter to control this behavior.\n",
            "  _warn_prf(average, modifier, msg_start, len(result))\n",
            "/usr/local/lib/python3.10/dist-packages/sklearn/metrics/_classification.py:1471: UndefinedMetricWarning: Recall and F-score are ill-defined and being set to 0.0 in labels with no true samples. Use `zero_division` parameter to control this behavior.\n",
            "  _warn_prf(average, modifier, msg_start, len(result))\n",
            "/usr/local/lib/python3.10/dist-packages/sklearn/metrics/_classification.py:1471: UndefinedMetricWarning: Precision and F-score are ill-defined and being set to 0.0 in labels with no predicted samples. Use `zero_division` parameter to control this behavior.\n",
            "  _warn_prf(average, modifier, msg_start, len(result))\n",
            "/usr/local/lib/python3.10/dist-packages/sklearn/metrics/_classification.py:1471: UndefinedMetricWarning: Recall and F-score are ill-defined and being set to 0.0 in labels with no true samples. Use `zero_division` parameter to control this behavior.\n",
            "  _warn_prf(average, modifier, msg_start, len(result))\n",
            "/usr/local/lib/python3.10/dist-packages/sklearn/metrics/_classification.py:1471: UndefinedMetricWarning: Precision and F-score are ill-defined and being set to 0.0 in labels with no predicted samples. Use `zero_division` parameter to control this behavior.\n",
            "  _warn_prf(average, modifier, msg_start, len(result))\n",
            "/usr/local/lib/python3.10/dist-packages/sklearn/metrics/_classification.py:1471: UndefinedMetricWarning: Recall and F-score are ill-defined and being set to 0.0 in labels with no true samples. Use `zero_division` parameter to control this behavior.\n",
            "  _warn_prf(average, modifier, msg_start, len(result))\n"
          ]
        }
      ]
    },
    {
      "cell_type": "markdown",
      "source": [
        "# ELMO model"
      ],
      "metadata": {
        "id": "C0mIf0mt1RuA"
      }
    },
    {
      "cell_type": "markdown",
      "source": [
        "The ELMO (Embeddings from Language Models) model, introduced by researchers from the Allen Institute for AI, is a significant advancement in the field of natural language processing (NLP). It's designed to understand the context and meaning of words in a sentence more effectively than traditional word embeddings like Word2Vec or GloVe. Here's an overview of its structure and features:\n",
        "\n",
        "* Contextualized Word Embeddings: Unlike traditional word embeddings, ELMO generates embeddings that are context-dependent. This means that the representation for a word can change based on the sentence in which it appears, allowing ELMO to capture nuances in meaning and syntax.\n",
        "\n",
        "* Deep Bidirectional Language Model: ELMO uses a deep, bidirectional Long Short-Term Memory (LSTM) network. The bidirectional aspect means that it processes each word by looking at the context from both the left and the right side of the word in a sentence. This approach is different from earlier unidirectional language models, which only considered context from one direction (either left-to-right or right-to-left).\n",
        "\n",
        "* Layered Representation: ELMO's model extracts features from multiple layers of the LSTM network. In a typical ELMO model, there are two LSTM layers stacked on top of each other. Each layer captures different types of information; for example, lower layers might capture syntactic aspects while higher layers capture more of the semantic content.\n",
        "\n",
        "* Pre-training on Large Text Corpus: Before being used for specific tasks, ELMO is pre-trained on a large text corpus. During this phase, it learns a broad understanding of language, including grammar, word usage, and common phrases.\n",
        "\n",
        "* Task-Specific Fine-Tuning: After pre-training, ELMO embeddings can be fine-tuned for specific tasks, like sentiment analysis, question answering, or language translation. This fine-tuning allows ELMO to adapt its general language understanding to the nuances of the specific task.\n",
        "\n",
        "* Output and Integration: The final output of ELMO is a set of vectors for each word in the input sentence. These vectors can be easily integrated into various NLP models (like neural networks for classification tasks) to enhance their performance by providing more accurate and context-aware word representations."
      ],
      "metadata": {
        "id": "LpJlzrLmIS3d"
      }
    },
    {
      "cell_type": "code",
      "source": [
        "# pip install tensorflow tensorflow-hub pandas scikit-learn"
      ],
      "metadata": {
        "id": "QPdOmpg5JtHF"
      },
      "execution_count": null,
      "outputs": []
    },
    {
      "cell_type": "code",
      "source": [
        "import tensorflow as tf\n",
        "import tensorflow_hub as hub\n",
        "import pandas as pd\n",
        "import numpy as np\n",
        "from sklearn.model_selection import train_test_split\n",
        "from sklearn.metrics import precision_score, recall_score, f1_score, confusion_matrix\n",
        "import matplotlib.pyplot as plt\n",
        "\n"
      ],
      "metadata": {
        "id": "VfX9vUocJo4T"
      },
      "execution_count": 28,
      "outputs": []
    },
    {
      "cell_type": "code",
      "source": [
        "# Load dataset\n",
        "file_path = '/content/balanced_emotion_subset.csv'\n",
        "data = pd.read_csv(file_path)\n",
        "\n",
        "# Preprocess data\n",
        "texts = data['clean_text'].astype(str)\n",
        "labels = pd.factorize(data['sentiment_type'])[0]\n",
        "\n",
        "# Split the dataset\n",
        "X_train, X_test, y_train, y_test = train_test_split(texts, labels, test_size=0.2, random_state=42)\n"
      ],
      "metadata": {
        "id": "RlC1WhFr2oG2"
      },
      "execution_count": 29,
      "outputs": []
    },
    {
      "cell_type": "code",
      "source": [
        "elmo = hub.load(\"https://tfhub.dev/google/elmo/3\")\n",
        "\n",
        "def elmo_embeddings(texts):\n",
        "    embeddings = elmo.signatures['default'](tf.constant(texts))['elmo']\n",
        "    return embeddings\n"
      ],
      "metadata": {
        "id": "R8Xw3uZY2qdC"
      },
      "execution_count": 30,
      "outputs": []
    },
    {
      "cell_type": "code",
      "source": [
        "def batch_generator(X, y, batch_size):\n",
        "    while True:\n",
        "        for offset in range(0, len(X), batch_size):\n",
        "            batch_texts = X[offset:offset+batch_size]\n",
        "            batch_labels = y[offset:offset+batch_size]\n",
        "            yield elmo_embeddings(batch_texts.tolist()), batch_labels\n",
        "\n",
        "def validation_batch_generator(X, y, batch_size):\n",
        "    while True:\n",
        "        for offset in range(0, len(X), batch_size):\n",
        "            batch_texts = X[offset:offset + batch_size]\n",
        "            batch_labels = y[offset:offset + batch_size]\n",
        "            yield elmo_embeddings(batch_texts.tolist()), batch_labels"
      ],
      "metadata": {
        "id": "P-gAEpEONrcf"
      },
      "execution_count": 39,
      "outputs": []
    },
    {
      "cell_type": "code",
      "source": [
        "model = tf.keras.Sequential([\n",
        "    tf.keras.layers.Input(shape=(none, 1024), dtype=tf.float32),\n",
        "    tf.keras.layers.Dense(256, activation='relu'),\n",
        "    tf.keras.layers.GlobalAveragePooling1D(),\n",
        "    tf.keras.layers.Dense(1, activation='sigmoid')\n",
        "])\n",
        "\n",
        "model.compile(optimizer='adam', loss='binary_crossentropy', metrics=['accuracy'])\n"
      ],
      "metadata": {
        "id": "bXKYbi23RN3S",
        "outputId": "f17fc754-8213-424d-b5b4-38025acc7fcb",
        "colab": {
          "base_uri": "https://localhost:8080/",
          "height": 222
        }
      },
      "execution_count": 38,
      "outputs": [
        {
          "output_type": "error",
          "ename": "NameError",
          "evalue": "name 'none' is not defined",
          "traceback": [
            "\u001b[0;31m---------------------------------------------------------------------------\u001b[0m",
            "\u001b[0;31mNameError\u001b[0m                                 Traceback (most recent call last)",
            "\u001b[0;32m<ipython-input-38-3c46982a4f2a>\u001b[0m in \u001b[0;36m<cell line: 1>\u001b[0;34m()\u001b[0m\n\u001b[1;32m      1\u001b[0m model = tf.keras.Sequential([\n\u001b[0;32m----> 2\u001b[0;31m     \u001b[0mtf\u001b[0m\u001b[0;34m.\u001b[0m\u001b[0mkeras\u001b[0m\u001b[0;34m.\u001b[0m\u001b[0mlayers\u001b[0m\u001b[0;34m.\u001b[0m\u001b[0mInput\u001b[0m\u001b[0;34m(\u001b[0m\u001b[0mshape\u001b[0m\u001b[0;34m=\u001b[0m\u001b[0;34m(\u001b[0m\u001b[0mnone\u001b[0m\u001b[0;34m,\u001b[0m \u001b[0;36m1024\u001b[0m\u001b[0;34m)\u001b[0m\u001b[0;34m,\u001b[0m \u001b[0mdtype\u001b[0m\u001b[0;34m=\u001b[0m\u001b[0mtf\u001b[0m\u001b[0;34m.\u001b[0m\u001b[0mfloat32\u001b[0m\u001b[0;34m)\u001b[0m\u001b[0;34m,\u001b[0m\u001b[0;34m\u001b[0m\u001b[0;34m\u001b[0m\u001b[0m\n\u001b[0m\u001b[1;32m      3\u001b[0m     \u001b[0mtf\u001b[0m\u001b[0;34m.\u001b[0m\u001b[0mkeras\u001b[0m\u001b[0;34m.\u001b[0m\u001b[0mlayers\u001b[0m\u001b[0;34m.\u001b[0m\u001b[0mDense\u001b[0m\u001b[0;34m(\u001b[0m\u001b[0;36m256\u001b[0m\u001b[0;34m,\u001b[0m \u001b[0mactivation\u001b[0m\u001b[0;34m=\u001b[0m\u001b[0;34m'relu'\u001b[0m\u001b[0;34m)\u001b[0m\u001b[0;34m,\u001b[0m\u001b[0;34m\u001b[0m\u001b[0;34m\u001b[0m\u001b[0m\n\u001b[1;32m      4\u001b[0m     \u001b[0mtf\u001b[0m\u001b[0;34m.\u001b[0m\u001b[0mkeras\u001b[0m\u001b[0;34m.\u001b[0m\u001b[0mlayers\u001b[0m\u001b[0;34m.\u001b[0m\u001b[0mGlobalAveragePooling1D\u001b[0m\u001b[0;34m(\u001b[0m\u001b[0;34m)\u001b[0m\u001b[0;34m,\u001b[0m\u001b[0;34m\u001b[0m\u001b[0;34m\u001b[0m\u001b[0m\n\u001b[1;32m      5\u001b[0m     \u001b[0mtf\u001b[0m\u001b[0;34m.\u001b[0m\u001b[0mkeras\u001b[0m\u001b[0;34m.\u001b[0m\u001b[0mlayers\u001b[0m\u001b[0;34m.\u001b[0m\u001b[0mDense\u001b[0m\u001b[0;34m(\u001b[0m\u001b[0;36m1\u001b[0m\u001b[0;34m,\u001b[0m \u001b[0mactivation\u001b[0m\u001b[0;34m=\u001b[0m\u001b[0;34m'sigmoid'\u001b[0m\u001b[0;34m)\u001b[0m\u001b[0;34m\u001b[0m\u001b[0;34m\u001b[0m\u001b[0m\n",
            "\u001b[0;31mNameError\u001b[0m: name 'none' is not defined"
          ]
        }
      ]
    },
    {
      "cell_type": "code",
      "source": [
        "batch_size = 32\n",
        "steps_per_epoch = max(1, len(X_train) // batch_size)\n",
        "validation_steps = max(1, len(X_test) // batch_size)\n",
        "\n",
        "history = model.fit(batch_generator(X_train, y_train, batch_size),\n",
        "                    steps_per_epoch=steps_per_epoch,\n",
        "                    validation_data=validation_batch_generator(X_test, y_test, batch_size),\n",
        "                    validation_steps=validation_steps,\n",
        "                    epochs=10)\n"
      ],
      "metadata": {
        "id": "mdiAz3rARP52",
        "outputId": "49272b58-539a-44ea-9807-1c98ebef47a9",
        "colab": {
          "base_uri": "https://localhost:8080/",
          "height": 450
        }
      },
      "execution_count": 33,
      "outputs": [
        {
          "output_type": "stream",
          "name": "stdout",
          "text": [
            "Epoch 1/10\n"
          ]
        },
        {
          "output_type": "stream",
          "name": "stderr",
          "text": [
            "/usr/local/lib/python3.10/dist-packages/tensorflow/python/data/ops/structured_function.py:254: UserWarning: Even though the `tf.config.experimental_run_functions_eagerly` option is set, this option does not apply to tf.data functions. To force eager execution of tf.data functions, please use `tf.data.experimental.enable_debug_mode()`.\n",
            "  warnings.warn(\n"
          ]
        },
        {
          "output_type": "error",
          "ename": "ValueError",
          "evalue": "Input 0 of layer \"sequential\" is incompatible with the layer: expected shape=(None, 1024, 1024), found shape=(19, 31, 1024)",
          "traceback": [
            "\u001b[0;31m---------------------------------------------------------------------------\u001b[0m",
            "\u001b[0;31mValueError\u001b[0m                                Traceback (most recent call last)",
            "\u001b[0;32m<ipython-input-33-2c7332f19906>\u001b[0m in \u001b[0;36m<cell line: 5>\u001b[0;34m()\u001b[0m\n\u001b[1;32m      3\u001b[0m \u001b[0mvalidation_steps\u001b[0m \u001b[0;34m=\u001b[0m \u001b[0mmax\u001b[0m\u001b[0;34m(\u001b[0m\u001b[0;36m1\u001b[0m\u001b[0;34m,\u001b[0m \u001b[0mlen\u001b[0m\u001b[0;34m(\u001b[0m\u001b[0mX_test\u001b[0m\u001b[0;34m)\u001b[0m \u001b[0;34m//\u001b[0m \u001b[0mbatch_size\u001b[0m\u001b[0;34m)\u001b[0m\u001b[0;34m\u001b[0m\u001b[0;34m\u001b[0m\u001b[0m\n\u001b[1;32m      4\u001b[0m \u001b[0;34m\u001b[0m\u001b[0m\n\u001b[0;32m----> 5\u001b[0;31m history = model.fit(batch_generator(X_train, y_train, batch_size),\n\u001b[0m\u001b[1;32m      6\u001b[0m                     \u001b[0msteps_per_epoch\u001b[0m\u001b[0;34m=\u001b[0m\u001b[0msteps_per_epoch\u001b[0m\u001b[0;34m,\u001b[0m\u001b[0;34m\u001b[0m\u001b[0;34m\u001b[0m\u001b[0m\n\u001b[1;32m      7\u001b[0m                     \u001b[0mvalidation_data\u001b[0m\u001b[0;34m=\u001b[0m\u001b[0mvalidation_batch_generator\u001b[0m\u001b[0;34m(\u001b[0m\u001b[0mX_test\u001b[0m\u001b[0;34m,\u001b[0m \u001b[0my_test\u001b[0m\u001b[0;34m,\u001b[0m \u001b[0mbatch_size\u001b[0m\u001b[0;34m)\u001b[0m\u001b[0;34m,\u001b[0m\u001b[0;34m\u001b[0m\u001b[0;34m\u001b[0m\u001b[0m\n",
            "\u001b[0;32m/usr/local/lib/python3.10/dist-packages/keras/utils/traceback_utils.py\u001b[0m in \u001b[0;36merror_handler\u001b[0;34m(*args, **kwargs)\u001b[0m\n\u001b[1;32m     68\u001b[0m             \u001b[0;31m# To get the full stack trace, call:\u001b[0m\u001b[0;34m\u001b[0m\u001b[0;34m\u001b[0m\u001b[0m\n\u001b[1;32m     69\u001b[0m             \u001b[0;31m# `tf.debugging.disable_traceback_filtering()`\u001b[0m\u001b[0;34m\u001b[0m\u001b[0;34m\u001b[0m\u001b[0m\n\u001b[0;32m---> 70\u001b[0;31m             \u001b[0;32mraise\u001b[0m \u001b[0me\u001b[0m\u001b[0;34m.\u001b[0m\u001b[0mwith_traceback\u001b[0m\u001b[0;34m(\u001b[0m\u001b[0mfiltered_tb\u001b[0m\u001b[0;34m)\u001b[0m \u001b[0;32mfrom\u001b[0m \u001b[0;32mNone\u001b[0m\u001b[0;34m\u001b[0m\u001b[0;34m\u001b[0m\u001b[0m\n\u001b[0m\u001b[1;32m     71\u001b[0m         \u001b[0;32mfinally\u001b[0m\u001b[0;34m:\u001b[0m\u001b[0;34m\u001b[0m\u001b[0;34m\u001b[0m\u001b[0m\n\u001b[1;32m     72\u001b[0m             \u001b[0;32mdel\u001b[0m \u001b[0mfiltered_tb\u001b[0m\u001b[0;34m\u001b[0m\u001b[0;34m\u001b[0m\u001b[0m\n",
            "\u001b[0;32m/usr/local/lib/python3.10/dist-packages/keras/engine/input_spec.py\u001b[0m in \u001b[0;36massert_input_compatibility\u001b[0;34m(input_spec, inputs, layer_name)\u001b[0m\n\u001b[1;32m    296\u001b[0m                 \u001b[0;32mif\u001b[0m \u001b[0mspec_dim\u001b[0m \u001b[0;32mis\u001b[0m \u001b[0;32mnot\u001b[0m \u001b[0;32mNone\u001b[0m \u001b[0;32mand\u001b[0m \u001b[0mdim\u001b[0m \u001b[0;32mis\u001b[0m \u001b[0;32mnot\u001b[0m \u001b[0;32mNone\u001b[0m\u001b[0;34m:\u001b[0m\u001b[0;34m\u001b[0m\u001b[0;34m\u001b[0m\u001b[0m\n\u001b[1;32m    297\u001b[0m                     \u001b[0;32mif\u001b[0m \u001b[0mspec_dim\u001b[0m \u001b[0;34m!=\u001b[0m \u001b[0mdim\u001b[0m\u001b[0;34m:\u001b[0m\u001b[0;34m\u001b[0m\u001b[0;34m\u001b[0m\u001b[0m\n\u001b[0;32m--> 298\u001b[0;31m                         raise ValueError(\n\u001b[0m\u001b[1;32m    299\u001b[0m                             \u001b[0;34mf'Input {input_index} of layer \"{layer_name}\" is '\u001b[0m\u001b[0;34m\u001b[0m\u001b[0;34m\u001b[0m\u001b[0m\n\u001b[1;32m    300\u001b[0m                             \u001b[0;34m\"incompatible with the layer: \"\u001b[0m\u001b[0;34m\u001b[0m\u001b[0;34m\u001b[0m\u001b[0m\n",
            "\u001b[0;31mValueError\u001b[0m: Input 0 of layer \"sequential\" is incompatible with the layer: expected shape=(None, 1024, 1024), found shape=(19, 31, 1024)"
          ]
        }
      ]
    },
    {
      "cell_type": "code",
      "source": [
        "plt.plot(history.history['loss'], label='Training Loss')\n",
        "plt.plot(history.history['val_loss'], label='Validation Loss')\n",
        "plt.title('Training and Validation Loss')\n",
        "plt.xlabel('Epoch')\n",
        "plt.ylabel('Loss')\n",
        "plt.legend()\n",
        "plt.show()\n"
      ],
      "metadata": {
        "id": "_qTSJXR9Rq7c"
      },
      "execution_count": null,
      "outputs": []
    },
    {
      "cell_type": "code",
      "source": [
        "# Convert probabilities to discrete predictions\n",
        "test_pred_labels = np.argmax(test_pred, axis=1)\n",
        "\n",
        "# Calculate metrics with appropriate averaging for multi-class classification\n",
        "precision = precision_score(y_test, test_pred_labels, average='macro')\n",
        "recall = recall_score(y_test, test_pred_labels, average='macro')\n",
        "f1 = f1_score(y_test, test_pred_labels, average='macro')\n",
        "conf_matrix = confusion_matrix(y_test, test_pred_labels)\n",
        "\n",
        "# Display metrics\n",
        "print(f\"Precision: {precision}\\nRecall: {recall}\\nF1 Score: {f1}\")\n",
        "print(\"Confusion Matrix:\\n\", conf_matrix)\n"
      ],
      "metadata": {
        "id": "3KPodO_nTYy6"
      },
      "execution_count": null,
      "outputs": []
    },
    {
      "cell_type": "markdown",
      "source": [
        "# XLNet"
      ],
      "metadata": {
        "id": "TV_bOmUko25H"
      }
    },
    {
      "cell_type": "code",
      "source": [
        "import pandas as pd\n",
        "\n",
        "# Load the dataset\n",
        "file_path = '/content/balanced_emotion_subset.csv'\n",
        "data = pd.read_csv(file_path)\n",
        "\n",
        "# Display the first few rows of the dataframe to understand its structure\n",
        "data.head()\n"
      ],
      "metadata": {
        "id": "FESOWkHu0wA-"
      },
      "execution_count": null,
      "outputs": []
    },
    {
      "cell_type": "code",
      "source": [
        "#!pip install SentencePiece\n",
        "# then restart the session"
      ],
      "metadata": {
        "id": "rFyEFE5A03yI"
      },
      "execution_count": null,
      "outputs": []
    },
    {
      "cell_type": "code",
      "source": [
        "!pip install datasets"
      ],
      "metadata": {
        "id": "DVNY9ICY3IXN"
      },
      "execution_count": null,
      "outputs": []
    },
    {
      "cell_type": "code",
      "source": [
        "import pandas as pd\n",
        "from sklearn.model_selection import train_test_split\n",
        "from sklearn.preprocessing import LabelEncoder\n",
        "import tensorflow as tf\n",
        "from transformers import TFRobertaForSequenceClassification, RobertaTokenizer\n",
        "from transformers import DataCollatorWithPadding\n",
        "from sklearn.metrics import confusion_matrix, classification_report\n",
        "\n",
        "# Load the dataset\n",
        "#data = pd.read_csv('path_to_your_dataset.csv')\n",
        "\n",
        "# Encode the labels\n",
        "label_encoder = LabelEncoder()\n",
        "data['encoded_emotion'] = label_encoder.fit_transform(data['emotion'])\n",
        "\n",
        "# Ensure the text column is a list of strings\n",
        "data['clean_text'] = data['clean_text'].astype(str)\n",
        "\n",
        "# Split the dataset\n",
        "train_text, temp_text, train_labels, temp_labels = train_test_split(\n",
        "    data['clean_text'].tolist(), data['encoded_emotion'].tolist(), test_size=0.3, random_state=42\n",
        ")\n",
        "val_text, test_text, val_labels, test_labels = train_test_split(\n",
        "    temp_text, temp_labels, test_size=0.5, random_state=42\n",
        ")\n",
        "\n",
        "# Tokenizer\n",
        "tokenizer = RobertaTokenizer.from_pretrained('roberta-base')\n",
        "\n",
        "def tokenize_function(text_list):\n",
        "    return tokenizer(text_list, padding='max_length', truncation=True, max_length=128, return_tensors='tf')\n",
        "\n",
        "# Tokenize data\n",
        "train_encodings = tokenize_function(train_text)\n",
        "val_encodings = tokenize_function(val_text)\n",
        "test_encodings = tokenize_function(test_text)\n",
        "\n",
        "# Convert labels to TensorFlow datasets\n",
        "train_dataset = tf.data.Dataset.from_tensor_slices((\n",
        "    dict(train_encodings),\n",
        "    train_labels\n",
        "))\n",
        "val_dataset = tf.data.Dataset.from_tensor_slices((\n",
        "    dict(val_encodings),\n",
        "    val_labels\n",
        "))\n",
        "test_dataset = tf.data.Dataset.from_tensor_slices((\n",
        "    dict(test_encodings),\n",
        "    test_labels\n",
        "))\n",
        "\n",
        "# Model\n",
        "model = TFRobertaForSequenceClassification.from_pretrained('roberta-base', num_labels=len(label_encoder.classes_))\n",
        "\n",
        "# Compile the model\n",
        "optimizer = tf.keras.optimizers.Adam(learning_rate=5e-5)\n",
        "loss = tf.keras.losses.SparseCategoricalCrossentropy(from_logits=True)\n",
        "model.compile(optimizer=optimizer, loss=loss, metrics=['accuracy'])\n",
        "\n",
        "# Train the model\n",
        "model.fit(train_dataset.shuffle(1000).batch(16), epochs=3, batch_size=16, validation_data=val_dataset.batch(16))\n",
        "\n",
        "# Evaluate the model\n",
        "eval_results = model.evaluate(test_dataset.batch(16))\n",
        "print(f\"Test Loss: {eval_results[0]}, Test Accuracy: {eval_results[1]}\")\n",
        "\n",
        "\n"
      ],
      "metadata": {
        "id": "6Ww5SOMs52pC"
      },
      "execution_count": null,
      "outputs": []
    },
    {
      "cell_type": "code",
      "source": [
        "# Predictions for confusion matrix\n",
        "y_pred = model.predict(test_dataset.batch(16)).logits\n",
        "y_pred = tf.argmax(y_pred, axis=1).numpy()\n",
        "\n",
        "# Get the unique classes in test_labels\n",
        "unique_classes = np.unique(test_labels)\n",
        "\n",
        "# Generate target names based on unique classes\n",
        "target_names = [label_encoder.inverse_transform([cls])[0] for cls in unique_classes]\n",
        "\n",
        "print(\"Confusion Matrix:\\n\", confusion_matrix(test_labels, y_pred))\n"
      ],
      "metadata": {
        "id": "zoNT1H8M8jUQ"
      },
      "execution_count": null,
      "outputs": []
    },
    {
      "cell_type": "code",
      "source": [],
      "metadata": {
        "id": "jJojWX83Juol"
      },
      "execution_count": null,
      "outputs": []
    }
  ]
}